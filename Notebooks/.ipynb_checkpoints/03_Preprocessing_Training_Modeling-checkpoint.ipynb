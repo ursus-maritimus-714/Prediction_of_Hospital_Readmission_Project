{
 "cells": [
  {
   "cell_type": "markdown",
   "id": "fb3dc2e0",
   "metadata": {},
   "source": [
    "### Imports"
   ]
  },
  {
   "cell_type": "code",
   "execution_count": 2,
   "id": "b7fba90a",
   "metadata": {},
   "outputs": [],
   "source": [
    "import pandas as pd\n",
    "import numpy as np\n",
    "import os\n",
    "import pickle\n",
    "import matplotlib.pyplot as plt\n",
    "import seaborn as sns\n",
    "from sklearn import __version__ as sklearn_version\n",
    "from sklearn.decomposition import PCA\n",
    "from sklearn.preprocessing import scale\n",
    "from sklearn.model_selection import train_test_split, cross_validate, GridSearchCV, learning_curve\n",
    "from sklearn.preprocessing import StandardScaler, MinMaxScaler\n",
    "from sklearn.dummy import DummyRegressor\n",
    "from sklearn.linear_model import LinearRegression\n",
    "from sklearn.ensemble import RandomForestRegressor\n",
    "from sklearn.ensemble import GradientBoostingRegressor\n",
    "from sklearn.experimental import enable_hist_gradient_boosting\n",
    "from sklearn.ensemble import HistGradientBoostingRegressor\n",
    "from sklearn.metrics import r2_score, mean_squared_error, mean_absolute_error\n",
    "from sklearn.pipeline import make_pipeline\n",
    "from sklearn.impute import SimpleImputer\n",
    "from sklearn.feature_selection import SelectKBest, f_regression\n",
    "import datetime"
   ]
  },
  {
   "cell_type": "code",
   "execution_count": 3,
   "id": "f5e6dee9",
   "metadata": {},
   "outputs": [],
   "source": [
    "from library.sb_utils import save_file"
   ]
  },
  {
   "cell_type": "markdown",
   "id": "46d74c47",
   "metadata": {},
   "source": [
    "### Load Data"
   ]
  },
  {
   "cell_type": "code",
   "execution_count": 4,
   "id": "84bf83e2",
   "metadata": {},
   "outputs": [
    {
     "data": {
      "text/html": [
       "<div>\n",
       "<style scoped>\n",
       "    .dataframe tbody tr th:only-of-type {\n",
       "        vertical-align: middle;\n",
       "    }\n",
       "\n",
       "    .dataframe tbody tr th {\n",
       "        vertical-align: top;\n",
       "    }\n",
       "\n",
       "    .dataframe thead th {\n",
       "        text-align: right;\n",
       "    }\n",
       "</style>\n",
       "<table border=\"1\" class=\"dataframe\">\n",
       "  <thead>\n",
       "    <tr style=\"text-align: right;\">\n",
       "      <th></th>\n",
       "      <th>Facility_ID</th>\n",
       "      <th>City</th>\n",
       "      <th>State</th>\n",
       "      <th>County</th>\n",
       "      <th>Total_Admissions</th>\n",
       "      <th>ReadmissionRate</th>\n",
       "      <th>HAI_1_SIR</th>\n",
       "      <th>HAI_2_SIR</th>\n",
       "      <th>HAI_5_SIR</th>\n",
       "      <th>HAI_6_SIR</th>\n",
       "      <th>...</th>\n",
       "      <th>ED_MEDIAN_VISIT_MINS</th>\n",
       "      <th>ED_LEFT_NOT_SEEN_%</th>\n",
       "      <th>ED_VOLUME</th>\n",
       "      <th>%_SEPSIS_CARE</th>\n",
       "      <th>%_HCWs_FLU_VAX</th>\n",
       "      <th>2018to2020_PCPI</th>\n",
       "      <th>Population_2019</th>\n",
       "      <th>MEDIAN_AGE_TOT</th>\n",
       "      <th>County_Facilities</th>\n",
       "      <th>Pop/Hosp</th>\n",
       "    </tr>\n",
       "  </thead>\n",
       "  <tbody>\n",
       "    <tr>\n",
       "      <th>0</th>\n",
       "      <td>010001</td>\n",
       "      <td>DOTHAN</td>\n",
       "      <td>AL</td>\n",
       "      <td>Houston</td>\n",
       "      <td>1805</td>\n",
       "      <td>15.5</td>\n",
       "      <td>0.555</td>\n",
       "      <td>0.289</td>\n",
       "      <td>0.871</td>\n",
       "      <td>0.604</td>\n",
       "      <td>...</td>\n",
       "      <td>168.0</td>\n",
       "      <td>3.0</td>\n",
       "      <td>3.0</td>\n",
       "      <td>60.0</td>\n",
       "      <td>99.0</td>\n",
       "      <td>44661.000000</td>\n",
       "      <td>105882.0</td>\n",
       "      <td>40.0</td>\n",
       "      <td>2</td>\n",
       "      <td>52941.000</td>\n",
       "    </tr>\n",
       "    <tr>\n",
       "      <th>1</th>\n",
       "      <td>010005</td>\n",
       "      <td>BOAZ</td>\n",
       "      <td>AL</td>\n",
       "      <td>Marshall</td>\n",
       "      <td>764</td>\n",
       "      <td>14.7</td>\n",
       "      <td>1.650</td>\n",
       "      <td>1.055</td>\n",
       "      <td>2.780</td>\n",
       "      <td>0.601</td>\n",
       "      <td>...</td>\n",
       "      <td>139.0</td>\n",
       "      <td>2.0</td>\n",
       "      <td>4.0</td>\n",
       "      <td>60.0</td>\n",
       "      <td>93.0</td>\n",
       "      <td>37982.666667</td>\n",
       "      <td>96774.0</td>\n",
       "      <td>38.9</td>\n",
       "      <td>1</td>\n",
       "      <td>96774.000</td>\n",
       "    </tr>\n",
       "    <tr>\n",
       "      <th>2</th>\n",
       "      <td>010006</td>\n",
       "      <td>FLORENCE</td>\n",
       "      <td>AL</td>\n",
       "      <td>Lauderdale</td>\n",
       "      <td>1563</td>\n",
       "      <td>15.7</td>\n",
       "      <td>0.987</td>\n",
       "      <td>0.442</td>\n",
       "      <td>1.232</td>\n",
       "      <td>0.212</td>\n",
       "      <td>...</td>\n",
       "      <td>182.0</td>\n",
       "      <td>1.0</td>\n",
       "      <td>3.0</td>\n",
       "      <td>32.0</td>\n",
       "      <td>82.0</td>\n",
       "      <td>38525.333333</td>\n",
       "      <td>92729.0</td>\n",
       "      <td>41.6</td>\n",
       "      <td>1</td>\n",
       "      <td>92729.000</td>\n",
       "    </tr>\n",
       "    <tr>\n",
       "      <th>3</th>\n",
       "      <td>010011</td>\n",
       "      <td>BIRMINGHAM</td>\n",
       "      <td>AL</td>\n",
       "      <td>Jefferson</td>\n",
       "      <td>918</td>\n",
       "      <td>16.3</td>\n",
       "      <td>0.424</td>\n",
       "      <td>0.993</td>\n",
       "      <td>0.802</td>\n",
       "      <td>0.359</td>\n",
       "      <td>...</td>\n",
       "      <td>174.0</td>\n",
       "      <td>3.0</td>\n",
       "      <td>3.0</td>\n",
       "      <td>30.0</td>\n",
       "      <td>76.0</td>\n",
       "      <td>56600.000000</td>\n",
       "      <td>658573.0</td>\n",
       "      <td>37.9</td>\n",
       "      <td>8</td>\n",
       "      <td>82321.625</td>\n",
       "    </tr>\n",
       "    <tr>\n",
       "      <th>4</th>\n",
       "      <td>010012</td>\n",
       "      <td>FORT PAYNE</td>\n",
       "      <td>AL</td>\n",
       "      <td>DeKalb</td>\n",
       "      <td>265</td>\n",
       "      <td>15.6</td>\n",
       "      <td>NaN</td>\n",
       "      <td>0.000</td>\n",
       "      <td>NaN</td>\n",
       "      <td>0.493</td>\n",
       "      <td>...</td>\n",
       "      <td>170.0</td>\n",
       "      <td>3.0</td>\n",
       "      <td>2.0</td>\n",
       "      <td>80.0</td>\n",
       "      <td>82.0</td>\n",
       "      <td>33574.333333</td>\n",
       "      <td>71513.0</td>\n",
       "      <td>40.1</td>\n",
       "      <td>1</td>\n",
       "      <td>71513.000</td>\n",
       "    </tr>\n",
       "  </tbody>\n",
       "</table>\n",
       "<p>5 rows × 37 columns</p>\n",
       "</div>"
      ],
      "text/plain": [
       "  Facility_ID        City State      County  Total_Admissions  \\\n",
       "0      010001      DOTHAN    AL     Houston              1805   \n",
       "1      010005        BOAZ    AL    Marshall               764   \n",
       "2      010006    FLORENCE    AL  Lauderdale              1563   \n",
       "3      010011  BIRMINGHAM    AL   Jefferson               918   \n",
       "4      010012  FORT PAYNE    AL      DeKalb               265   \n",
       "\n",
       "   ReadmissionRate  HAI_1_SIR  HAI_2_SIR  HAI_5_SIR  HAI_6_SIR  ...  \\\n",
       "0             15.5      0.555      0.289      0.871      0.604  ...   \n",
       "1             14.7      1.650      1.055      2.780      0.601  ...   \n",
       "2             15.7      0.987      0.442      1.232      0.212  ...   \n",
       "3             16.3      0.424      0.993      0.802      0.359  ...   \n",
       "4             15.6        NaN      0.000        NaN      0.493  ...   \n",
       "\n",
       "   ED_MEDIAN_VISIT_MINS  ED_LEFT_NOT_SEEN_%  ED_VOLUME  %_SEPSIS_CARE  \\\n",
       "0                 168.0                 3.0        3.0           60.0   \n",
       "1                 139.0                 2.0        4.0           60.0   \n",
       "2                 182.0                 1.0        3.0           32.0   \n",
       "3                 174.0                 3.0        3.0           30.0   \n",
       "4                 170.0                 3.0        2.0           80.0   \n",
       "\n",
       "   %_HCWs_FLU_VAX  2018to2020_PCPI  Population_2019  MEDIAN_AGE_TOT  \\\n",
       "0            99.0     44661.000000         105882.0            40.0   \n",
       "1            93.0     37982.666667          96774.0            38.9   \n",
       "2            82.0     38525.333333          92729.0            41.6   \n",
       "3            76.0     56600.000000         658573.0            37.9   \n",
       "4            82.0     33574.333333          71513.0            40.1   \n",
       "\n",
       "   County_Facilities   Pop/Hosp  \n",
       "0                  2  52941.000  \n",
       "1                  1  96774.000  \n",
       "2                  1  92729.000  \n",
       "3                  8  82321.625  \n",
       "4                  1  71513.000  \n",
       "\n",
       "[5 rows x 37 columns]"
      ]
     },
     "execution_count": 4,
     "metadata": {},
     "output_type": "execute_result"
    }
   ],
   "source": [
    "hosp_data = pd.read_csv('../data/main_df_post2_200.csv')\n",
    "hosp_data.head()"
   ]
  },
  {
   "cell_type": "code",
   "execution_count": 5,
   "id": "5b0f4d21",
   "metadata": {},
   "outputs": [
    {
     "name": "stdout",
     "output_type": "stream",
     "text": [
      "<class 'pandas.core.frame.DataFrame'>\n",
      "RangeIndex: 2473 entries, 0 to 2472\n",
      "Data columns (total 37 columns):\n",
      " #   Column                Non-Null Count  Dtype  \n",
      "---  ------                --------------  -----  \n",
      " 0   Facility_ID           2473 non-null   object \n",
      " 1   City                  2473 non-null   object \n",
      " 2   State                 2473 non-null   object \n",
      " 3   County                2473 non-null   object \n",
      " 4   Total_Admissions      2473 non-null   int64  \n",
      " 5   ReadmissionRate       2473 non-null   float64\n",
      " 6   HAI_1_SIR             1949 non-null   float64\n",
      " 7   HAI_2_SIR             2133 non-null   float64\n",
      " 8   HAI_5_SIR             1674 non-null   float64\n",
      " 9   HAI_6_SIR             2320 non-null   float64\n",
      " 10  PSI_3                 2445 non-null   float64\n",
      " 11  PSI_6                 2445 non-null   float64\n",
      " 12  PSI_8                 2445 non-null   float64\n",
      " 13  PSI_9                 2436 non-null   float64\n",
      " 14  PSI_10                2335 non-null   float64\n",
      " 15  PSI_11                2322 non-null   float64\n",
      " 16  PSI_12                2436 non-null   float64\n",
      " 17  PSI_13                2319 non-null   float64\n",
      " 18  PSI_14                2394 non-null   float64\n",
      " 19  PSI_15                2434 non-null   float64\n",
      " 20  PSI_90                2445 non-null   float64\n",
      " 21  H_Comp_Ov             2423 non-null   float64\n",
      " 22  AMI_TA_PROP           1921 non-null   float64\n",
      " 23  COPD_TA_PROP          2473 non-null   float64\n",
      " 24  HF_TA_PROP            2420 non-null   float64\n",
      " 25  HIPKNEE_TA_PROP       2473 non-null   float64\n",
      " 26  PN_TA_PROP            2473 non-null   float64\n",
      " 27  ED_MEDIAN_VISIT_MINS  2308 non-null   float64\n",
      " 28  ED_LEFT_NOT_SEEN_%    1796 non-null   float64\n",
      " 29  ED_VOLUME             2473 non-null   float64\n",
      " 30  %_SEPSIS_CARE         2255 non-null   float64\n",
      " 31  %_HCWs_FLU_VAX        2325 non-null   float64\n",
      " 32  2018to2020_PCPI       2473 non-null   float64\n",
      " 33  Population_2019       2473 non-null   float64\n",
      " 34  MEDIAN_AGE_TOT        2473 non-null   float64\n",
      " 35  County_Facilities     2473 non-null   int64  \n",
      " 36  Pop/Hosp              2473 non-null   float64\n",
      "dtypes: float64(31), int64(2), object(4)\n",
      "memory usage: 715.0+ KB\n"
     ]
    }
   ],
   "source": [
    "hosp_data.info()"
   ]
  },
  {
   "cell_type": "code",
   "execution_count": 6,
   "id": "24255b95",
   "metadata": {},
   "outputs": [
    {
     "name": "stdout",
     "output_type": "stream",
     "text": [
      "<class 'pandas.core.frame.DataFrame'>\n",
      "RangeIndex: 2473 entries, 0 to 2472\n",
      "Data columns (total 34 columns):\n",
      " #   Column                Non-Null Count  Dtype  \n",
      "---  ------                --------------  -----  \n",
      " 0   Facility_ID           2473 non-null   object \n",
      " 1   City                  2473 non-null   object \n",
      " 2   State                 2473 non-null   object \n",
      " 3   County                2473 non-null   object \n",
      " 4   Total_Admissions      2473 non-null   int64  \n",
      " 5   ReadmissionRate       2473 non-null   float64\n",
      " 6   HAI_1_SIR             1949 non-null   float64\n",
      " 7   HAI_2_SIR             2133 non-null   float64\n",
      " 8   HAI_5_SIR             1674 non-null   float64\n",
      " 9   HAI_6_SIR             2320 non-null   float64\n",
      " 10  PSI_3                 2445 non-null   float64\n",
      " 11  PSI_6                 2445 non-null   float64\n",
      " 12  PSI_8                 2445 non-null   float64\n",
      " 13  PSI_9                 2436 non-null   float64\n",
      " 14  PSI_10                2335 non-null   float64\n",
      " 15  PSI_11                2322 non-null   float64\n",
      " 16  PSI_12                2436 non-null   float64\n",
      " 17  PSI_13                2319 non-null   float64\n",
      " 18  PSI_14                2394 non-null   float64\n",
      " 19  PSI_15                2434 non-null   float64\n",
      " 20  PSI_90                2445 non-null   float64\n",
      " 21  H_Comp_Ov             2423 non-null   float64\n",
      " 22  AMI_TA_PROP           1921 non-null   float64\n",
      " 23  COPD_TA_PROP          2473 non-null   float64\n",
      " 24  HF_TA_PROP            2420 non-null   float64\n",
      " 25  HIPKNEE_TA_PROP       2473 non-null   float64\n",
      " 26  PN_TA_PROP            2473 non-null   float64\n",
      " 27  ED_MEDIAN_VISIT_MINS  2308 non-null   float64\n",
      " 28  %_SEPSIS_CARE         2255 non-null   float64\n",
      " 29  %_HCWs_FLU_VAX        2325 non-null   float64\n",
      " 30  2018to2020_PCPI       2473 non-null   float64\n",
      " 31  Population_2019       2473 non-null   float64\n",
      " 32  MEDIAN_AGE_TOT        2473 non-null   float64\n",
      " 33  Pop/Hosp              2473 non-null   float64\n",
      "dtypes: float64(29), int64(1), object(4)\n",
      "memory usage: 657.0+ KB\n"
     ]
    }
   ],
   "source": [
    "#Experimental-dropping categorical data and/or data contributing the least to the RF model and/high # missing values\n",
    "hosp_data = hosp_data.drop(['County_Facilities','ED_VOLUME','ED_LEFT_NOT_SEEN_%'], axis = 1)\n",
    "hosp_data.info()"
   ]
  },
  {
   "cell_type": "markdown",
   "id": "ca47e00a",
   "metadata": {},
   "source": [
    "### Extract Target Data"
   ]
  },
  {
   "cell_type": "code",
   "execution_count": 7,
   "id": "0325e345",
   "metadata": {},
   "outputs": [],
   "source": [
    "#Our target hospital, which we will now remove for use later. \n",
    "targ_hosp = hosp_data[hosp_data.Facility_ID == '310041']"
   ]
  },
  {
   "cell_type": "code",
   "execution_count": 8,
   "id": "d9bf5a70",
   "metadata": {},
   "outputs": [
    {
     "data": {
      "text/plain": [
       "(2472, 34)"
      ]
     },
     "execution_count": 8,
     "metadata": {},
     "output_type": "execute_result"
    }
   ],
   "source": [
    "#Remove targ_hosp from main dataframe for testing and training\n",
    "hosp_data = hosp_data[hosp_data.Facility_ID !='310041']\n",
    "hosp_data.shape"
   ]
  },
  {
   "cell_type": "markdown",
   "id": "3b5f6a5f",
   "metadata": {},
   "source": [
    "### Train/Test Split"
   ]
  },
  {
   "cell_type": "code",
   "execution_count": 9,
   "id": "25675f6e",
   "metadata": {},
   "outputs": [
    {
     "data": {
      "text/plain": [
       "(1730.3999999999999, 741.6)"
      ]
     },
     "execution_count": 9,
     "metadata": {},
     "output_type": "execute_result"
    }
   ],
   "source": [
    "len(hosp_data) * .7, len(hosp_data) * .3"
   ]
  },
  {
   "cell_type": "code",
   "execution_count": 10,
   "id": "0b75b136",
   "metadata": {},
   "outputs": [],
   "source": [
    "X_train, X_test, y_train, y_test = train_test_split(hosp_data.drop(columns='ReadmissionRate'), \n",
    "                                                    hosp_data.ReadmissionRate, test_size=0.3, \n",
    "                                                    random_state=47)"
   ]
  },
  {
   "cell_type": "code",
   "execution_count": 11,
   "id": "8d348702",
   "metadata": {},
   "outputs": [
    {
     "data": {
      "text/plain": [
       "((1730,), (742,))"
      ]
     },
     "execution_count": 11,
     "metadata": {},
     "output_type": "execute_result"
    }
   ],
   "source": [
    "y_train.shape, y_test.shape"
   ]
  },
  {
   "cell_type": "code",
   "execution_count": 12,
   "id": "60d9d00e",
   "metadata": {},
   "outputs": [
    {
     "data": {
      "text/plain": [
       "((1730, 29), (742, 29))"
      ]
     },
     "execution_count": 12,
     "metadata": {},
     "output_type": "execute_result"
    }
   ],
   "source": [
    "#Save the 'Facility_ID', 'City', 'State', and 'County' columns from the train/test data into names_train and names_test\n",
    "#Then drop those columns from `X_train` and `X_test`. Use 'inplace=True'\n",
    "names_list = ['Facility_ID','City','State','County']\n",
    "names_train = X_train[names_list]\n",
    "names_test = X_test[names_list]\n",
    "X_train.drop(columns=names_list, inplace=True)\n",
    "X_test.drop(columns=names_list, inplace=True)\n",
    "X_train.shape, X_test.shape"
   ]
  },
  {
   "cell_type": "markdown",
   "id": "fb96fbf0",
   "metadata": {},
   "source": [
    "## Pre-Modeling: Mean ReadmissionRate as Predictor"
   ]
  },
  {
   "cell_type": "code",
   "execution_count": 14,
   "id": "9f4e433b",
   "metadata": {},
   "outputs": [
    {
     "data": {
      "text/plain": [
       "15.519248554913288"
      ]
     },
     "execution_count": 14,
     "metadata": {},
     "output_type": "execute_result"
    }
   ],
   "source": [
    "#Target feature (ReadmissionRate) Training set mean\n",
    "train_mean = y_train.mean()\n",
    "train_mean"
   ]
  },
  {
   "cell_type": "code",
   "execution_count": 15,
   "id": "d6e1bf28",
   "metadata": {},
   "outputs": [
    {
     "data": {
      "text/plain": [
       "array([[15.51924855]])"
      ]
     },
     "execution_count": 15,
     "metadata": {},
     "output_type": "execute_result"
    }
   ],
   "source": [
    "#Fitting dummy regressor to training data (from sklearn). Outputs the training set mean.\n",
    "dumb_reg = DummyRegressor(strategy='mean')\n",
    "dumb_reg.fit(X_train, y_train)\n",
    "dumb_reg.constant_"
   ]
  },
  {
   "cell_type": "code",
   "execution_count": 16,
   "id": "fd52cd8e",
   "metadata": {},
   "outputs": [
    {
     "data": {
      "text/plain": [
       "array([15.51924855, 15.51924855, 15.51924855, 15.51924855, 15.51924855])"
      ]
     },
     "execution_count": 16,
     "metadata": {},
     "output_type": "execute_result"
    }
   ],
   "source": [
    "y_tr_pred = dumb_reg.predict(X_train)\n",
    "y_tr_pred[:5]"
   ]
  },
  {
   "cell_type": "code",
   "execution_count": 17,
   "id": "9a66e92d",
   "metadata": {},
   "outputs": [],
   "source": [
    "y_te_pred = train_mean * np.ones(len(y_test))"
   ]
  },
  {
   "cell_type": "markdown",
   "id": "5c6fb56a",
   "metadata": {},
   "source": [
    "#### R-Squared"
   ]
  },
  {
   "cell_type": "code",
   "execution_count": 18,
   "id": "54fefc99",
   "metadata": {},
   "outputs": [
    {
     "data": {
      "text/plain": [
       "(0.0, -0.0006661592133934136)"
      ]
     },
     "execution_count": 18,
     "metadata": {},
     "output_type": "execute_result"
    }
   ],
   "source": [
    "#Compute R-squared for target mean on training set (will be zero, since we are calculating mean on training set), and on test set (should be slightl different from zero)\n",
    "r2_score(y_train, y_tr_pred), r2_score(y_test, y_te_pred)"
   ]
  },
  {
   "cell_type": "markdown",
   "id": "63588156",
   "metadata": {},
   "source": [
    "proportion of the variance for a dependent variable that's explained by our features. It's close to zero for the dummy model as expected."
   ]
  },
  {
   "cell_type": "markdown",
   "id": "af6016f7",
   "metadata": {},
   "source": [
    "#### Mean Absolute Error"
   ]
  },
  {
   "cell_type": "code",
   "execution_count": 19,
   "id": "cd45ee46",
   "metadata": {},
   "outputs": [
    {
     "data": {
      "text/plain": [
       "(0.6194189582010761, 0.6203731517691593)"
      ]
     },
     "execution_count": 19,
     "metadata": {},
     "output_type": "execute_result"
    }
   ],
   "source": [
    "mean_absolute_error(y_train, y_tr_pred), mean_absolute_error(y_test, y_te_pred)"
   ]
  },
  {
   "cell_type": "markdown",
   "id": "e7e867f4",
   "metadata": {},
   "source": [
    "On average, you might expect to be off by around .62% on both training and test data if you guessed Readmission Rate (RR) based simply on an average of known values."
   ]
  },
  {
   "cell_type": "markdown",
   "id": "03aa780b",
   "metadata": {},
   "source": [
    "#### Mean Squared Error"
   ]
  },
  {
   "cell_type": "code",
   "execution_count": 20,
   "id": "31c2ccad",
   "metadata": {},
   "outputs": [
    {
     "data": {
      "text/plain": [
       "(0.6810572387984898, 0.6999979159932779)"
      ]
     },
     "execution_count": 20,
     "metadata": {},
     "output_type": "execute_result"
    }
   ],
   "source": [
    "#Calculate the Mean Squared Error (average of the square of the errors)\n",
    "mean_squared_error(y_train, y_tr_pred), mean_squared_error(y_test, y_te_pred)"
   ]
  },
  {
   "cell_type": "markdown",
   "id": "dc61b3b6",
   "metadata": {},
   "source": [
    "## Linear Model"
   ]
  },
  {
   "cell_type": "code",
   "execution_count": 158,
   "id": "771c9908",
   "metadata": {},
   "outputs": [],
   "source": [
    "lr_pipe = make_pipeline(\n",
    "    SimpleImputer(strategy='median'), \n",
    "    StandardScaler(),\n",
    "    SelectKBest(f_regression),\n",
    "    LinearRegression()\n",
    ")"
   ]
  },
  {
   "cell_type": "code",
   "execution_count": 159,
   "id": "eae0f409",
   "metadata": {},
   "outputs": [
    {
     "data": {
      "text/plain": [
       "dict_keys(['memory', 'steps', 'verbose', 'simpleimputer', 'standardscaler', 'selectkbest', 'linearregression', 'simpleimputer__add_indicator', 'simpleimputer__copy', 'simpleimputer__fill_value', 'simpleimputer__missing_values', 'simpleimputer__strategy', 'simpleimputer__verbose', 'standardscaler__copy', 'standardscaler__with_mean', 'standardscaler__with_std', 'selectkbest__k', 'selectkbest__score_func', 'linearregression__copy_X', 'linearregression__fit_intercept', 'linearregression__n_jobs', 'linearregression__normalize', 'linearregression__positive'])"
      ]
     },
     "execution_count": 159,
     "metadata": {},
     "output_type": "execute_result"
    }
   ],
   "source": [
    "#Dict of available parameters for linear regression pipe\n",
    "lr_pipe.get_params().keys()"
   ]
  },
  {
   "cell_type": "code",
   "execution_count": 160,
   "id": "271bfa66",
   "metadata": {},
   "outputs": [],
   "source": [
    "#Define search grid parameters\n",
    "k = [k+1 for k in range(len(X_train.columns))]\n",
    "\n",
    "grid_params = {'selectkbest__k': k}\n",
    "\n",
    "#Grid search (with hipass 200 inpatient admissions) yielded best k features = 9"
   ]
  },
  {
   "cell_type": "code",
   "execution_count": 161,
   "id": "23da0272",
   "metadata": {},
   "outputs": [],
   "source": [
    "#Call `GridSearchCV` with linear regression pipeline, passing in the above `grid_params`\n",
    "#dict for parameters to evaluate with 5-fold cross-validation\n",
    "lr_grid_cv = GridSearchCV(lr_pipe, param_grid=grid_params, cv=5)"
   ]
  },
  {
   "cell_type": "code",
   "execution_count": 162,
   "id": "b164b161",
   "metadata": {},
   "outputs": [
    {
     "data": {
      "text/plain": [
       "GridSearchCV(cv=5,\n",
       "             estimator=Pipeline(steps=[('simpleimputer',\n",
       "                                        SimpleImputer(strategy='median')),\n",
       "                                       ('standardscaler', StandardScaler()),\n",
       "                                       ('selectkbest',\n",
       "                                        SelectKBest(score_func=<function f_regression at 0x000001EE08B74700>)),\n",
       "                                       ('linearregression',\n",
       "                                        LinearRegression())]),\n",
       "             param_grid={'selectkbest__k': [1, 2, 3, 4, 5, 6, 7, 8, 9, 10, 11,\n",
       "                                            12, 13, 14, 15, 16, 17, 18, 19, 20,\n",
       "                                            21, 22, 23, 24, 25, 26, 27, 28,\n",
       "                                            29]})"
      ]
     },
     "execution_count": 162,
     "metadata": {},
     "output_type": "execute_result"
    }
   ],
   "source": [
    "#Conduct grid search. \n",
    "lr_grid_cv.fit(X_train, y_train)"
   ]
  },
  {
   "cell_type": "code",
   "execution_count": 163,
   "id": "2481c84a",
   "metadata": {},
   "outputs": [
    {
     "data": {
      "text/plain": [
       "{'selectkbest__k': 9}"
      ]
     },
     "execution_count": 163,
     "metadata": {},
     "output_type": "execute_result"
    }
   ],
   "source": [
    "#Best params from grid search\n",
    "lr_grid_cv.best_params_"
   ]
  },
  {
   "cell_type": "markdown",
   "id": "10e882cb",
   "metadata": {},
   "source": [
    "### K Best Features Visualization"
   ]
  },
  {
   "cell_type": "code",
   "execution_count": 174,
   "id": "2fd9abbb",
   "metadata": {},
   "outputs": [
    {
     "data": {
      "image/png": "[encoded data removed]",
      "text/plain": [
       "<Figure size 720x360 with 1 Axes>"
      ]
     },
     "metadata": {
      "needs_background": "light"
     },
     "output_type": "display_data"
    }
   ],
   "source": [
    "score_mean = lr_grid_cv.cv_results_['mean_test_score']\n",
    "score_std = lr_grid_cv.cv_results_['std_test_score']\n",
    "cv_k = [k for k in lr_grid_cv.cv_results_['param_selectkbest__k']]\n",
    "\n",
    "best_k = lr_grid_cv.best_params_['selectkbest__k']\n",
    "plt.subplots(figsize=(10, 5))\n",
    "plt.errorbar(cv_k, score_mean, yerr=score_std)\n",
    "plt.axvline(x=best_k, c='r', ls='--', alpha=.5)\n",
    "plt.xlabel('k')\n",
    "plt.ylabel('CV score (r-squared)')\n",
    "plt.title('Pipeline mean CV score (error bars +/- 1sd)');"
   ]
  },
  {
   "cell_type": "markdown",
   "id": "d20eacd1",
   "metadata": {},
   "source": [
    "### Best Model Performance"
   ]
  },
  {
   "cell_type": "code",
   "execution_count": 164,
   "id": "9331bcc1",
   "metadata": {},
   "outputs": [
    {
     "data": {
      "text/plain": [
       "array([0.12456102, 0.12182783, 0.0910842 , 0.09874568, 0.05651282])"
      ]
     },
     "execution_count": 164,
     "metadata": {},
     "output_type": "execute_result"
    }
   ],
   "source": [
    "lr_best_cv_results = cross_validate(lr_grid_cv.best_estimator_, X_train, y_train, cv=5)\n",
    "lr_best_scores = lr_best_cv_results['test_score']\n",
    "lr_best_scores"
   ]
  },
  {
   "cell_type": "code",
   "execution_count": 165,
   "id": "31847207",
   "metadata": {},
   "outputs": [
    {
     "data": {
      "text/plain": [
       "(0.09854631167214858, 0.02466305382075514)"
      ]
     },
     "execution_count": 165,
     "metadata": {},
     "output_type": "execute_result"
    }
   ],
   "source": [
    "np.mean(lr_best_scores), np.std(lr_best_scores)"
   ]
  },
  {
   "cell_type": "code",
   "execution_count": 166,
   "id": "dc981928",
   "metadata": {},
   "outputs": [],
   "source": [
    "lr_neg_mae = cross_validate(lr_grid_cv.best_estimator_, X_train, y_train, \n",
    "                            scoring='neg_mean_absolute_error', cv=5, n_jobs=-1)"
   ]
  },
  {
   "cell_type": "code",
   "execution_count": 167,
   "id": "e021c51e",
   "metadata": {},
   "outputs": [
    {
     "data": {
      "text/plain": [
       "(0.5863534284847155, 0.010085225579619873)"
      ]
     },
     "execution_count": 167,
     "metadata": {},
     "output_type": "execute_result"
    }
   ],
   "source": [
    "lr_mae_mean = np.mean(-1 * lr_neg_mae['test_score'])\n",
    "lr_mae_std = np.std(-1 * lr_neg_mae['test_score'])\n",
    "lr_mae_mean, lr_mae_std"
   ]
  },
  {
   "cell_type": "code",
   "execution_count": 168,
   "id": "7da7291c",
   "metadata": {},
   "outputs": [
    {
     "data": {
      "text/plain": [
       "0.5781078473629385"
      ]
     },
     "execution_count": 168,
     "metadata": {},
     "output_type": "execute_result"
    }
   ],
   "source": [
    "mean_absolute_error(y_test, lr_grid_cv.best_estimator_.predict(X_test))"
   ]
  },
  {
   "cell_type": "markdown",
   "id": "60ead7f5",
   "metadata": {},
   "source": [
    "The best linear model has mean error of .59% in predicting RR in the training set and .58% predicting RR in the test set.\n",
    "This was obtained with hipass of >=200 inpatient cases for an individual hospital."
   ]
  },
  {
   "cell_type": "markdown",
   "id": "db752b42",
   "metadata": {},
   "source": [
    "### Best Model Feature Importance"
   ]
  },
  {
   "cell_type": "code",
   "execution_count": 171,
   "id": "1f7feb2b",
   "metadata": {},
   "outputs": [
    {
     "data": {
      "image/png": "[encoded data removed]",
      "text/plain": [
       "<Figure size 720x360 with 1 Axes>"
      ]
     },
     "metadata": {
      "needs_background": "light"
     },
     "output_type": "display_data"
    }
   ],
   "source": [
    "#Plot a barplot of the linear regressor feature importances,\n",
    "#assigning the `feature_importances_` attribute of \n",
    "#`lv_grid_cv.best_estimator_.named_steps.linearregression` to the name `imps` to then\n",
    "#create a pandas Series object of the feature importances, with the index given by the\n",
    "#training data column names, sorting the values in descending order\n",
    "selected = lr_grid_cv.best_estimator_.named_steps.selectkbest.get_support()\n",
    "plt.subplots(figsize=(10, 5))\n",
    "imps = lr_grid_cv.best_estimator_.named_steps.linearregression.coef_\n",
    "lr_feat_imps = pd.Series(imps, index=X_train.columns[selected]).sort_values(ascending=False)\n",
    "lr_feat_imps.plot(kind='bar')\n",
    "plt.xlabel('features')\n",
    "plt.ylabel('importance')\n",
    "plt.title('Best linear regressor feature importances');"
   ]
  },
  {
   "cell_type": "markdown",
   "id": "76a62c0a",
   "metadata": {},
   "source": [
    "## Random Forest"
   ]
  },
  {
   "cell_type": "code",
   "execution_count": 115,
   "id": "4657c2ac",
   "metadata": {},
   "outputs": [],
   "source": [
    "#Define pipeline\n",
    "RF_pipe = make_pipeline(\n",
    "    SimpleImputer(strategy='median'),\n",
    "    StandardScaler(),\n",
    "    RandomForestRegressor(random_state=47)\n",
    ")"
   ]
  },
  {
   "cell_type": "code",
   "execution_count": 116,
   "id": "fa3312d2",
   "metadata": {},
   "outputs": [
    {
     "data": {
      "text/plain": [
       "dict_keys(['memory', 'steps', 'verbose', 'simpleimputer', 'standardscaler', 'randomforestregressor', 'simpleimputer__add_indicator', 'simpleimputer__copy', 'simpleimputer__fill_value', 'simpleimputer__missing_values', 'simpleimputer__strategy', 'simpleimputer__verbose', 'standardscaler__copy', 'standardscaler__with_mean', 'standardscaler__with_std', 'randomforestregressor__bootstrap', 'randomforestregressor__ccp_alpha', 'randomforestregressor__criterion', 'randomforestregressor__max_depth', 'randomforestregressor__max_features', 'randomforestregressor__max_leaf_nodes', 'randomforestregressor__max_samples', 'randomforestregressor__min_impurity_decrease', 'randomforestregressor__min_impurity_split', 'randomforestregressor__min_samples_leaf', 'randomforestregressor__min_samples_split', 'randomforestregressor__min_weight_fraction_leaf', 'randomforestregressor__n_estimators', 'randomforestregressor__n_jobs', 'randomforestregressor__oob_score', 'randomforestregressor__random_state', 'randomforestregressor__verbose', 'randomforestregressor__warm_start'])"
      ]
     },
     "execution_count": 116,
     "metadata": {},
     "output_type": "execute_result"
    }
   ],
   "source": [
    "#Dict of available parameters for RF pipe\n",
    "RF_pipe.get_params().keys()"
   ]
  },
  {
   "cell_type": "code",
   "execution_count": 119,
   "id": "28438fd8",
   "metadata": {},
   "outputs": [
    {
     "data": {
      "text/plain": [
       "{'randomforestregressor__n_estimators': [1000],\n",
       " 'standardscaler': [StandardScaler(), None],\n",
       " 'simpleimputer__strategy': ['mean', 'median']}"
      ]
     },
     "execution_count": 119,
     "metadata": {},
     "output_type": "execute_result"
    }
   ],
   "source": [
    "#Define search grid parameters\n",
    "\n",
    "#n_est = [int(n) for n in np.logspace(start=1, stop=3, num=20)]\n",
    "n_est = [1000]\n",
    "\n",
    "grid_params = {\n",
    "        'randomforestregressor__n_estimators': n_est,\n",
    "        'standardscaler': [StandardScaler(), None],\n",
    "        'simpleimputer__strategy': ['mean', 'median']\n",
    "}\n",
    "grid_params\n",
    "\n",
    "#1000 is best estimators in this range with 200 inpatient cases as the hipass. Also mean imputation and no scaling."
   ]
  },
  {
   "cell_type": "code",
   "execution_count": 121,
   "id": "854bb69b",
   "metadata": {},
   "outputs": [],
   "source": [
    "#Call `GridSearchCV` with random forest pipeline, passing in the above `grid_params`\n",
    "#dict for parameters to evaluate with 5-fold cross-validation\n",
    "rf_grid_cv = GridSearchCV(RF_pipe, param_grid=grid_params, cv=5)"
   ]
  },
  {
   "cell_type": "code",
   "execution_count": 123,
   "id": "6cb70324",
   "metadata": {},
   "outputs": [
    {
     "data": {
      "text/plain": [
       "GridSearchCV(cv=5,\n",
       "             estimator=Pipeline(steps=[('simpleimputer',\n",
       "                                        SimpleImputer(strategy='median')),\n",
       "                                       ('standardscaler', StandardScaler()),\n",
       "                                       ('randomforestregressor',\n",
       "                                        RandomForestRegressor(random_state=47))]),\n",
       "             param_grid={'randomforestregressor__n_estimators': [1000],\n",
       "                         'simpleimputer__strategy': ['mean', 'median'],\n",
       "                         'standardscaler': [StandardScaler(), None]})"
      ]
     },
     "execution_count": 123,
     "metadata": {},
     "output_type": "execute_result"
    }
   ],
   "source": [
    "#Conduct grid search.  \n",
    "rf_grid_cv.fit(X_train, y_train)"
   ]
  },
  {
   "cell_type": "code",
   "execution_count": 125,
   "id": "3247bb8c",
   "metadata": {},
   "outputs": [
    {
     "data": {
      "text/plain": [
       "{'randomforestregressor__n_estimators': 1000,\n",
       " 'simpleimputer__strategy': 'mean',\n",
       " 'standardscaler': StandardScaler()}"
      ]
     },
     "execution_count": 125,
     "metadata": {},
     "output_type": "execute_result"
    }
   ],
   "source": [
    "#Print the best params (`best_params_` attribute) from the grid search\n",
    "rf_grid_cv.best_params_"
   ]
  },
  {
   "cell_type": "markdown",
   "id": "cc3bca01",
   "metadata": {},
   "source": [
    "### Best Model Performance"
   ]
  },
  {
   "cell_type": "code",
   "execution_count": 126,
   "id": "1ded4200",
   "metadata": {},
   "outputs": [
    {
     "data": {
      "text/plain": [
       "array([0.22889358, 0.18692557, 0.1353234 , 0.14895504, 0.13664482])"
      ]
     },
     "execution_count": 126,
     "metadata": {},
     "output_type": "execute_result"
    }
   ],
   "source": [
    "rf_best_cv_results = cross_validate(rf_grid_cv.best_estimator_, X_train, y_train, cv=5)\n",
    "rf_best_scores = rf_best_cv_results['test_score']\n",
    "rf_best_scores"
   ]
  },
  {
   "cell_type": "code",
   "execution_count": 128,
   "id": "99ddfd4b",
   "metadata": {},
   "outputs": [
    {
     "data": {
      "text/plain": [
       "(0.16734848162703445, 0.03599361375570095)"
      ]
     },
     "execution_count": 128,
     "metadata": {},
     "output_type": "execute_result"
    }
   ],
   "source": [
    "np.mean(rf_best_scores), np.std(rf_best_scores)"
   ]
  },
  {
   "cell_type": "code",
   "execution_count": 29,
   "id": "62aff659",
   "metadata": {},
   "outputs": [],
   "source": [
    "rf_neg_mae = cross_validate(rf_grid_cv.best_estimator_, X_train, y_train, \n",
    "                            scoring='neg_mean_absolute_error', cv=5, n_jobs=-1)"
   ]
  },
  {
   "cell_type": "code",
   "execution_count": 30,
   "id": "fe4c2bab",
   "metadata": {},
   "outputs": [
    {
     "data": {
      "text/plain": [
       "(0.5743172254335259, 0.016689180433635153)"
      ]
     },
     "execution_count": 30,
     "metadata": {},
     "output_type": "execute_result"
    }
   ],
   "source": [
    "rf_mae_mean = np.mean(-1 * rf_neg_mae['test_score'])\n",
    "rf_mae_std = np.std(-1 * rf_neg_mae['test_score'])\n",
    "rf_mae_mean, rf_mae_std"
   ]
  },
  {
   "cell_type": "code",
   "execution_count": 31,
   "id": "070033cd",
   "metadata": {},
   "outputs": [
    {
     "data": {
      "text/plain": [
       "0.5483245283018885"
      ]
     },
     "execution_count": 31,
     "metadata": {},
     "output_type": "execute_result"
    }
   ],
   "source": [
    "mean_absolute_error(y_test, rf_grid_cv.best_estimator_.predict(X_test)\n",
    "#.548 with 200 case hipass and best estimator from grid search (1000)"
   ]
  },
  {
   "cell_type": "markdown",
   "id": "d0322505",
   "metadata": {},
   "source": [
    "The random forest model has mean error of .57% in predicting RR in the training set and .55% predicting RR in the test set.\n",
    "This was obtained with hipass of >=200 inpatient cases for an individual hospital."
   ]
  },
  {
   "cell_type": "markdown",
   "id": "92bf5632",
   "metadata": {},
   "source": [
    "### Best Model Feature Importance"
   ]
  },
  {
   "cell_type": "code",
   "execution_count": 129,
   "id": "b988b9d5",
   "metadata": {},
   "outputs": [
    {
     "data": {
      "image/png": "[encoded data removed]",
      "text/plain": [
       "<Figure size 720x360 with 1 Axes>"
      ]
     },
     "metadata": {
      "needs_background": "light"
     },
     "output_type": "display_data"
    }
   ],
   "source": [
    "#Plot a barplot of the random forest's feature importances,\n",
    "#assigning the `feature_importances_` attribute of \n",
    "#`rf_grid_cv.best_estimator_.named_steps.randomforestregressor` to the name `imps` to then\n",
    "#create a pandas Series object of the feature importances, with the index given by the\n",
    "#training data column names, sorting the values in descending order\n",
    "plt.subplots(figsize=(10, 5))\n",
    "imps = rf_grid_cv.best_estimator_.named_steps.randomforestregressor.feature_importances_\n",
    "rf_feat_imps = pd.Series(imps, index=X_train.columns).sort_values(ascending=False)\n",
    "rf_feat_imps.plot(kind='bar')\n",
    "plt.xlabel('features')\n",
    "plt.ylabel('importance')\n",
    "plt.title('Best random forest regressor feature importances');"
   ]
  },
  {
   "cell_type": "markdown",
   "id": "d2555930",
   "metadata": {},
   "source": [
    "## Gradient Boosting"
   ]
  },
  {
   "cell_type": "markdown",
   "id": "ecad055d",
   "metadata": {},
   "source": [
    "### Gradient Boosting Model: Hyperparameter Grid Search"
   ]
  },
  {
   "cell_type": "code",
   "execution_count": 130,
   "id": "1dca95f5",
   "metadata": {},
   "outputs": [],
   "source": [
    "#Define pipeline \n",
    "GB_pipe = make_pipeline(\n",
    "    SimpleImputer(strategy='mean'),\n",
    "    StandardScaler(),\n",
    "    GradientBoostingRegressor(random_state= 47)\n",
    ")"
   ]
  },
  {
   "cell_type": "code",
   "execution_count": 131,
   "id": "73b8beb3",
   "metadata": {},
   "outputs": [
    {
     "data": {
      "text/plain": [
       "dict_keys(['memory', 'steps', 'verbose', 'simpleimputer', 'standardscaler', 'gradientboostingregressor', 'simpleimputer__add_indicator', 'simpleimputer__copy', 'simpleimputer__fill_value', 'simpleimputer__missing_values', 'simpleimputer__strategy', 'simpleimputer__verbose', 'standardscaler__copy', 'standardscaler__with_mean', 'standardscaler__with_std', 'gradientboostingregressor__alpha', 'gradientboostingregressor__ccp_alpha', 'gradientboostingregressor__criterion', 'gradientboostingregressor__init', 'gradientboostingregressor__learning_rate', 'gradientboostingregressor__loss', 'gradientboostingregressor__max_depth', 'gradientboostingregressor__max_features', 'gradientboostingregressor__max_leaf_nodes', 'gradientboostingregressor__min_impurity_decrease', 'gradientboostingregressor__min_impurity_split', 'gradientboostingregressor__min_samples_leaf', 'gradientboostingregressor__min_samples_split', 'gradientboostingregressor__min_weight_fraction_leaf', 'gradientboostingregressor__n_estimators', 'gradientboostingregressor__n_iter_no_change', 'gradientboostingregressor__random_state', 'gradientboostingregressor__subsample', 'gradientboostingregressor__tol', 'gradientboostingregressor__validation_fraction', 'gradientboostingregressor__verbose', 'gradientboostingregressor__warm_start'])"
      ]
     },
     "execution_count": 131,
     "metadata": {},
     "output_type": "execute_result"
    }
   ],
   "source": [
    "GB_pipe.get_params().keys()"
   ]
  },
  {
   "cell_type": "code",
   "execution_count": 132,
   "id": "e0ce1259",
   "metadata": {},
   "outputs": [
    {
     "data": {
      "text/plain": [
       "{'gradientboostingregressor__n_estimators': [50],\n",
       " 'standardscaler': [StandardScaler(), None],\n",
       " 'simpleimputer__strategy': ['mean', 'median'],\n",
       " 'gradientboostingregressor__learning_rate': [0.05],\n",
       " 'gradientboostingregressor__max_depth': [6],\n",
       " 'gradientboostingregressor__max_features': [6]}"
      ]
     },
     "execution_count": 132,
     "metadata": {},
     "output_type": "execute_result"
    }
   ],
   "source": [
    "#Define Grid Parameters\n",
    "\n",
    "n_est = [50]\n",
    "learning_rate = [.05]\n",
    "max_depth = [6]\n",
    "max_features = [6]\n",
    "\n",
    "\n",
    "grid_params = {\n",
    "        'gradientboostingregressor__n_estimators': n_est,\n",
    "        'standardscaler': [StandardScaler(), None],\n",
    "        'simpleimputer__strategy': ['mean', 'median'],\n",
    "        'gradientboostingregressor__learning_rate': learning_rate,\n",
    "        'gradientboostingregressor__max_depth': max_depth,\n",
    "        'gradientboostingregressor__max_features': max_features\n",
    "}\n",
    "grid_params\n",
    "\n",
    "#best params from a broad grid search (hipass of 200 inpatient cases) were 50, .05, 6, 6\n",
    "#MAE/SD training was: (0.5702951436959963, 0.013731865097665486)  MAE test was: 0.5543158577555028"
   ]
  },
  {
   "cell_type": "code",
   "execution_count": 133,
   "id": "611de3b2",
   "metadata": {},
   "outputs": [],
   "source": [
    "#Call `GridSearchCV` with the gradient boosting pipeline, passing in the above `grid_params`\n",
    "#dict for parameters to evaluate, 5-fold cross-validation\n",
    "gb_grid_cv = GridSearchCV(GB_pipe, param_grid=grid_params, cv=5)"
   ]
  },
  {
   "cell_type": "code",
   "execution_count": 134,
   "id": "f9af9f63",
   "metadata": {},
   "outputs": [
    {
     "data": {
      "text/plain": [
       "GridSearchCV(cv=5,\n",
       "             estimator=Pipeline(steps=[('simpleimputer', SimpleImputer()),\n",
       "                                       ('standardscaler', StandardScaler()),\n",
       "                                       ('gradientboostingregressor',\n",
       "                                        GradientBoostingRegressor(random_state=47))]),\n",
       "             param_grid={'gradientboostingregressor__learning_rate': [0.05],\n",
       "                         'gradientboostingregressor__max_depth': [6],\n",
       "                         'gradientboostingregressor__max_features': [6],\n",
       "                         'gradientboostingregressor__n_estimators': [50],\n",
       "                         'simpleimputer__strategy': ['mean', 'median'],\n",
       "                         'standardscaler': [StandardScaler(), None]})"
      ]
     },
     "execution_count": 134,
     "metadata": {},
     "output_type": "execute_result"
    }
   ],
   "source": [
    "#conduct the grid search. \n",
    "gb_grid_cv.fit(X_train, y_train)"
   ]
  },
  {
   "cell_type": "code",
   "execution_count": 135,
   "id": "51fba0cc",
   "metadata": {},
   "outputs": [
    {
     "data": {
      "text/plain": [
       "{'gradientboostingregressor__learning_rate': 0.05,\n",
       " 'gradientboostingregressor__max_depth': 6,\n",
       " 'gradientboostingregressor__max_features': 6,\n",
       " 'gradientboostingregressor__n_estimators': 50,\n",
       " 'simpleimputer__strategy': 'mean',\n",
       " 'standardscaler': None}"
      ]
     },
     "execution_count": 135,
     "metadata": {},
     "output_type": "execute_result"
    }
   ],
   "source": [
    "#Best params (`best_params_` attribute) from the grid search\n",
    "gb_grid_cv.best_params_"
   ]
  },
  {
   "cell_type": "markdown",
   "id": "860181a4",
   "metadata": {},
   "source": [
    "### Best Model Performance"
   ]
  },
  {
   "cell_type": "code",
   "execution_count": 136,
   "id": "e49eb2e0",
   "metadata": {},
   "outputs": [
    {
     "data": {
      "text/plain": [
       "array([0.20811197, 0.21084039, 0.15160233, 0.15320996, 0.18127946])"
      ]
     },
     "execution_count": 136,
     "metadata": {},
     "output_type": "execute_result"
    }
   ],
   "source": [
    "gb_best_cv_results = cross_validate(gb_grid_cv.best_estimator_, X_train, y_train, cv=5)\n",
    "gb_best_scores = gb_best_cv_results['test_score']\n",
    "gb_best_scores"
   ]
  },
  {
   "cell_type": "code",
   "execution_count": 137,
   "id": "3ad774e2",
   "metadata": {},
   "outputs": [
    {
     "data": {
      "text/plain": [
       "(0.1810088239872764, 0.02554249233214384)"
      ]
     },
     "execution_count": 137,
     "metadata": {},
     "output_type": "execute_result"
    }
   ],
   "source": [
    "np.mean(gb_best_scores), np.std(gb_best_scores)"
   ]
  },
  {
   "cell_type": "code",
   "execution_count": 138,
   "id": "961a3437",
   "metadata": {},
   "outputs": [],
   "source": [
    "gb_neg_mae = cross_validate(gb_grid_cv.best_estimator_, X_train, y_train, \n",
    "                            scoring='neg_mean_absolute_error', cv=5, n_jobs=-1)"
   ]
  },
  {
   "cell_type": "code",
   "execution_count": 139,
   "id": "bc1c864a",
   "metadata": {},
   "outputs": [
    {
     "data": {
      "text/plain": [
       "(0.5702951436959963, 0.013731865097665486)"
      ]
     },
     "execution_count": 139,
     "metadata": {},
     "output_type": "execute_result"
    }
   ],
   "source": [
    "gb_mae_mean = np.mean(-1 * gb_neg_mae['test_score'])\n",
    "gb_mae_std = np.std(-1 * gb_neg_mae['test_score'])\n",
    "gb_mae_mean, gb_mae_std"
   ]
  },
  {
   "cell_type": "code",
   "execution_count": 140,
   "id": "524c186e",
   "metadata": {},
   "outputs": [
    {
     "data": {
      "text/plain": [
       "0.5543158577555028"
      ]
     },
     "execution_count": 140,
     "metadata": {},
     "output_type": "execute_result"
    }
   ],
   "source": [
    "mean_absolute_error(y_test, gb_grid_cv.best_estimator_.predict(X_test))"
   ]
  },
  {
   "cell_type": "markdown",
   "id": "fd534601",
   "metadata": {},
   "source": [
    "The best gradient boosting model has mean error of .57% in predicting RR in the training set and .55% predicting RR in the test set. This was obtained with hipass of >=200 inpatient cases for an individual hospital."
   ]
  },
  {
   "cell_type": "markdown",
   "id": "51045cc8",
   "metadata": {},
   "source": [
    "## HistGradientBoostingRegressor"
   ]
  },
  {
   "cell_type": "code",
   "execution_count": 13,
   "id": "657e74f4",
   "metadata": {},
   "outputs": [],
   "source": [
    "#Define pipeline\n",
    "HGB_pipe = make_pipeline(\n",
    "    SimpleImputer(strategy='mean'),\n",
    "    StandardScaler(),\n",
    "    HistGradientBoostingRegressor(random_state= 47)\n",
    ")"
   ]
  },
  {
   "cell_type": "code",
   "execution_count": 14,
   "id": "871ac915",
   "metadata": {},
   "outputs": [
    {
     "data": {
      "text/plain": [
       "dict_keys(['memory', 'steps', 'verbose', 'simpleimputer', 'standardscaler', 'histgradientboostingregressor', 'simpleimputer__add_indicator', 'simpleimputer__copy', 'simpleimputer__fill_value', 'simpleimputer__missing_values', 'simpleimputer__strategy', 'simpleimputer__verbose', 'standardscaler__copy', 'standardscaler__with_mean', 'standardscaler__with_std', 'histgradientboostingregressor__categorical_features', 'histgradientboostingregressor__early_stopping', 'histgradientboostingregressor__l2_regularization', 'histgradientboostingregressor__learning_rate', 'histgradientboostingregressor__loss', 'histgradientboostingregressor__max_bins', 'histgradientboostingregressor__max_depth', 'histgradientboostingregressor__max_iter', 'histgradientboostingregressor__max_leaf_nodes', 'histgradientboostingregressor__min_samples_leaf', 'histgradientboostingregressor__monotonic_cst', 'histgradientboostingregressor__n_iter_no_change', 'histgradientboostingregressor__random_state', 'histgradientboostingregressor__scoring', 'histgradientboostingregressor__tol', 'histgradientboostingregressor__validation_fraction', 'histgradientboostingregressor__verbose', 'histgradientboostingregressor__warm_start'])"
      ]
     },
     "execution_count": 14,
     "metadata": {},
     "output_type": "execute_result"
    }
   ],
   "source": [
    "HGB_pipe.get_params().keys()"
   ]
  },
  {
   "cell_type": "code",
   "execution_count": 15,
   "id": "b46864ef",
   "metadata": {},
   "outputs": [
    {
     "data": {
      "text/plain": [
       "{'standardscaler': [StandardScaler(), None],\n",
       " 'simpleimputer__strategy': ['mean', 'median'],\n",
       " 'histgradientboostingregressor__learning_rate': [0.06],\n",
       " 'histgradientboostingregressor__max_iter': [40],\n",
       " 'histgradientboostingregressor__max_depth': [5]}"
      ]
     },
     "execution_count": 15,
     "metadata": {},
     "output_type": "execute_result"
    }
   ],
   "source": [
    "#Define grid search parameters\n",
    "\n",
    "learning_rate = [.06]\n",
    "max_iterations = [40]\n",
    "max_depth = [5]\n",
    "\n",
    "grid_params = {\n",
    "        'standardscaler': [StandardScaler(), None],\n",
    "        'simpleimputer__strategy': ['mean', 'median'],\n",
    "        'histgradientboostingregressor__learning_rate': learning_rate,\n",
    "        'histgradientboostingregressor__max_iter': max_iterations,\n",
    "        'histgradientboostingregressor__max_depth': max_depth\n",
    "}\n",
    "grid_params\n",
    "\n",
    "#best params from a broad grid search (hipass of 200 inpatient cases) were .06, 40, 5"
   ]
  },
  {
   "cell_type": "code",
   "execution_count": 16,
   "id": "2cb3948f",
   "metadata": {},
   "outputs": [],
   "source": [
    "#Call `GridSearchCV` with the hist gradient boosting pipeline, passing in the above `grid_params`\n",
    "#dict for parameters to evaluate, 5-fold cross-validation.\n",
    "hgb_grid_cv = GridSearchCV(HGB_pipe, param_grid=grid_params, cv=5)"
   ]
  },
  {
   "cell_type": "code",
   "execution_count": 17,
   "id": "56e5e38d",
   "metadata": {},
   "outputs": [
    {
     "data": {
      "text/plain": [
       "GridSearchCV(cv=5,\n",
       "             estimator=Pipeline(steps=[('simpleimputer', SimpleImputer()),\n",
       "                                       ('standardscaler', StandardScaler()),\n",
       "                                       ('histgradientboostingregressor',\n",
       "                                        HistGradientBoostingRegressor(random_state=47))]),\n",
       "             param_grid={'histgradientboostingregressor__learning_rate': [0.06],\n",
       "                         'histgradientboostingregressor__max_depth': [5],\n",
       "                         'histgradientboostingregressor__max_iter': [40],\n",
       "                         'simpleimputer__strategy': ['mean', 'median'],\n",
       "                         'standardscaler': [StandardScaler(), None]})"
      ]
     },
     "execution_count": 17,
     "metadata": {},
     "output_type": "execute_result"
    }
   ],
   "source": [
    "#`GridSearchCV`'s `fit()` method with `X_train` and `y_train` as arguments\n",
    "#to actually start the grid search. \n",
    "hgb_grid_cv.fit(X_train, y_train)"
   ]
  },
  {
   "cell_type": "code",
   "execution_count": 18,
   "id": "7d88b785",
   "metadata": {},
   "outputs": [
    {
     "data": {
      "text/plain": [
       "{'histgradientboostingregressor__learning_rate': 0.06,\n",
       " 'histgradientboostingregressor__max_depth': 5,\n",
       " 'histgradientboostingregressor__max_iter': 40,\n",
       " 'simpleimputer__strategy': 'mean',\n",
       " 'standardscaler': None}"
      ]
     },
     "execution_count": 18,
     "metadata": {},
     "output_type": "execute_result"
    }
   ],
   "source": [
    "#Best params (`best_params_` attribute) from the grid search\n",
    "hgb_grid_cv.best_params_"
   ]
  },
  {
   "cell_type": "code",
   "execution_count": 19,
   "id": "be2c76a9",
   "metadata": {},
   "outputs": [
    {
     "data": {
      "text/plain": [
       "array([0.2196022 , 0.19814509, 0.14780502, 0.14268893, 0.11184304])"
      ]
     },
     "execution_count": 19,
     "metadata": {},
     "output_type": "execute_result"
    }
   ],
   "source": [
    "hgb_best_cv_results = cross_validate(hgb_grid_cv.best_estimator_, X_train, y_train, cv=5)\n",
    "hgb_best_scores = hgb_best_cv_results['test_score']\n",
    "hgb_best_scores"
   ]
  },
  {
   "cell_type": "code",
   "execution_count": 20,
   "id": "dfa6ae6e",
   "metadata": {},
   "outputs": [
    {
     "data": {
      "text/plain": [
       "(0.16401685682899558, 0.03922825109949898)"
      ]
     },
     "execution_count": 20,
     "metadata": {},
     "output_type": "execute_result"
    }
   ],
   "source": [
    "np.mean(hgb_best_scores), np.std(hgb_best_scores)"
   ]
  },
  {
   "cell_type": "markdown",
   "id": "08016cba",
   "metadata": {},
   "source": [
    "### Best Model Performance"
   ]
  },
  {
   "cell_type": "code",
   "execution_count": 21,
   "id": "8a101a62",
   "metadata": {},
   "outputs": [],
   "source": [
    "# 'neg_mean_absolute_error' uses the (negative of) the mean absolute error\n",
    "hgb_neg_mae = cross_validate(hgb_grid_cv.best_estimator_, X_train, y_train, \n",
    "                            scoring='neg_mean_absolute_error', cv=5, n_jobs=-1)"
   ]
  },
  {
   "cell_type": "code",
   "execution_count": 22,
   "id": "75eddcf3",
   "metadata": {},
   "outputs": [
    {
     "data": {
      "text/plain": [
       "(0.5755261743606133, 0.015164923727563409)"
      ]
     },
     "execution_count": 22,
     "metadata": {},
     "output_type": "execute_result"
    }
   ],
   "source": [
    "#Cross-validation mean absolute error\n",
    "hgb_mae_mean = np.mean(-1 * hgb_neg_mae['test_score'])\n",
    "hgb_mae_std = np.std(-1 * hgb_neg_mae['test_score'])\n",
    "hgb_mae_mean, hgb_mae_std"
   ]
  },
  {
   "cell_type": "code",
   "execution_count": 27,
   "id": "28ce0a74",
   "metadata": {},
   "outputs": [
    {
     "data": {
      "text/plain": [
       "0.558388340049883"
      ]
     },
     "execution_count": 27,
     "metadata": {},
     "output_type": "execute_result"
    }
   ],
   "source": [
    "#Verifying performance on the test set (mean absolute error)\n",
    "mean_absolute_error(y_test, hgb_grid_cv.best_estimator_.predict(X_test))"
   ]
  },
  {
   "cell_type": "markdown",
   "id": "5a269ffd",
   "metadata": {},
   "source": [
    "The best HGB model has mean error of .58% in predicting RR in the training set and .56% predicting RR in the test set. This was obtained with hipass of >=200 inpatient cases for an individual hospital."
   ]
  },
  {
   "cell_type": "markdown",
   "id": "e0410278",
   "metadata": {},
   "source": [
    "### Data Quality Assessment (HGB Model)"
   ]
  },
  {
   "cell_type": "code",
   "execution_count": 186,
   "id": "a688fa8e",
   "metadata": {},
   "outputs": [],
   "source": [
    "fractions = [.2, .25, .3, .35, .4, .45, .5, .6, .75, .8, .9, 1.0]\n",
    "train_size, train_scores, test_scores = learning_curve(HGB_pipe, X_train, y_train, train_sizes=fractions)\n",
    "train_scores_mean = np.mean(train_scores, axis=1)\n",
    "train_scores_std = np.std(train_scores, axis=1)\n",
    "test_scores_mean = np.mean(test_scores, axis=1)\n",
    "test_scores_std = np.std(test_scores, axis=1)"
   ]
  },
  {
   "cell_type": "code",
   "execution_count": 187,
   "id": "2c10bc8f",
   "metadata": {},
   "outputs": [
    {
     "data": {
      "image/png": "[encoded data removed]",
      "text/plain": [
       "<Figure size 720x360 with 1 Axes>"
      ]
     },
     "metadata": {
      "needs_background": "light"
     },
     "output_type": "display_data"
    }
   ],
   "source": [
    "plt.subplots(figsize=(10, 5))\n",
    "plt.errorbar(train_size, test_scores_mean, yerr=test_scores_std)\n",
    "plt.xlabel('Training set size')\n",
    "plt.ylabel('CV scores')\n",
    "plt.title('Cross-validation score as training set size increases');"
   ]
  },
  {
   "cell_type": "markdown",
   "id": "730c2592",
   "metadata": {},
   "source": [
    "## Save Best Model Object From Pipeline"
   ]
  },
  {
   "cell_type": "code",
   "execution_count": 188,
   "id": "764d236f",
   "metadata": {},
   "outputs": [],
   "source": [
    "best_model = hgb_grid_cv.best_estimator_\n",
    "best_model.version = '1.0'\n",
    "best_model.pandas_version = pd.__version__\n",
    "best_model.numpy_version = np.__version__\n",
    "best_model.sklearn_version = sklearn_version\n",
    "best_model.X_columns = [col for col in X_train.columns]\n",
    "best_model.build_datetime = datetime.datetime.now()"
   ]
  },
  {
   "cell_type": "code",
   "execution_count": 189,
   "id": "8c466d1b",
   "metadata": {},
   "outputs": [
    {
     "name": "stdout",
     "output_type": "stream",
     "text": [
      "A file already exists with this name.\n",
      "\n",
      "Do you want to overwrite? (Y/N)Y\n",
      "Writing file.  \"../models\\hospital_RR_model.pkl\"\n"
     ]
    }
   ],
   "source": [
    "# save the model\n",
    "modelpath = '../models'\n",
    "save_file(best_model, 'hospital_RR_model.pkl', modelpath)"
   ]
  },
  {
   "cell_type": "markdown",
   "id": "71efa0a5",
   "metadata": {},
   "source": [
    "## Summary of Preprocessing, Training and Modeling"
   ]
  },
  {
   "cell_type": "markdown",
   "id": "f1b32927",
   "metadata": {},
   "source": [
    "* The final data consisted of the ~2500 US hospitals - ~65% of all hospitals in the original CMS data set- that both had available target data (Readmission Rate) and at least 200 inpatient admissions in the previous year. \n",
    "\n",
    "\n",
    "* Data were subject to a 70/30 training/testing split. 5-fold training cross validation was performed for each model described below prior to test set prediction. \n",
    "\n",
    "\n",
    "* Average Readmission Rate was first explored as a baseline measure of performance. Readmission Rate predicted simply by average price in the training set yielded a prediction that was approximately .62% off of average actual Readmission Rate in the test set.\n",
    "\n",
    "\n",
    "* We next built a Linear Regression model, which we optimized in terms of K-best features (which turned out to be k = 9). The best Linear model yielded a prediction that was approximately .58% off of average actual Readmission Rate in the test set. \n",
    "    * Best Linear model outperformed the baseline model\n",
    "\n",
    "\n",
    "* A Random Forest Regression model was constructed next, with a hyperparameter grid search used to select best imputation method (mean), scaling (none), and number of estimators/trees (1,000). The best Random Forest model yielded a prediction that was approximately .55% off of average actual Readmission Rate in the test set. \n",
    "    * Best Random Forest model outperformed both the baseline model and Linear model\n",
    "\n",
    "\n",
    "* Next, several ensemble models were constructed, starting with a Gradient Boosting Regression model. A hyperparameter grid search used to select best imputation method (mean), scaling (none), number of estimators/trees (50), learning rate (.05), maximum depth (6), and maximum number of features (6). The best Gradient Boosting model yielded a prediction that was approximately .55% off of average actual Readmission Rate in the test set. \n",
    "    * Best Gradient Boosting model outperformed both the baseline model and Linear model, and equivalently to Random Forest           with substantially less computational time. \n",
    " \n",
    "\n",
    "* Finally, a HistGradient Boosting Regression ensemble model was constructed. A hyperparameter grid search used to select best imputation method (mean), scaling (none), number of iterations/trees (50), learning rate (.06) and maximum depth (6). The best HistGradient Boosting model yielded a prediction that was approximately .56% off of average actual Readmission Rate in the test set. \n",
    "    * Best HistGradient Boosting model outperformed both the baseline model and Linear model, and nearly equivalently to Random Forest and Gradient Boosting with substantially less computational time than even the other decision tree models (as well as less hyperparameter tuning).\n",
    "    \n",
    "\n",
    "* Data quality assessment on the HistGradient Boosting model suggested that performance continued to improve up to close to the training set maximum of ~1,300 hospitals. While more data would possibly yield better model performance, the decision was made to keep the ~1000 hospitals with fewer than 200 inpatient cases in the previous year out of the final analysis\n",
    "    * These \"small\" hospitals had a disproportionate amount of missing values across predictve features, and there is also likely an increase in noise around Readmission Rate at these low numbers that might offset any advantages to adding data.\n",
    "    * Furthermore, our client hospital had a relatively high number of inpatient admissions- 2,700. Thus, including hospitals with very small samples is likely to be less relevant to what drives Readmission Rate at a larger hospital like our client's. \n",
    "\n"
   ]
  },
  {
   "cell_type": "code",
   "execution_count": null,
   "id": "1f665d8d",
   "metadata": {},
   "outputs": [],
   "source": []
  }
 ],
 "metadata": {
  "kernelspec": {
   "display_name": "Python 3",
   "language": "python",
   "name": "python3"
  },
  "language_info": {
   "codemirror_mode": {
    "name": "ipython",
    "version": 3
   },
   "file_extension": ".py",
   "mimetype": "text/x-python",
   "name": "python",
   "nbconvert_exporter": "python",
   "pygments_lexer": "ipython3",
   "version": "3.8.8"
  }
 },
 "nbformat": 4,
 "nbformat_minor": 5
}
