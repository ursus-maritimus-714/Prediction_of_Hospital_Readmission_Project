{
 "cells": [
  {
   "cell_type": "markdown",
   "id": "716cb14e",
   "metadata": {},
   "source": [
    "### Imports"
   ]
  },
  {
   "cell_type": "code",
   "execution_count": 57,
   "id": "29ee9205",
   "metadata": {},
   "outputs": [],
   "source": [
    "import pandas as pd\n",
    "import numpy as np\n",
    "import os\n",
    "import pickle\n",
    "import matplotlib.pyplot as plt\n",
    "import seaborn as sns\n",
    "from sklearn import __version__ as sklearn_version\n",
    "from sklearn.model_selection import cross_validate"
   ]
  },
  {
   "cell_type": "markdown",
   "id": "51fbf267",
   "metadata": {},
   "source": [
    "### Load Model"
   ]
  },
  {
   "cell_type": "code",
   "execution_count": 58,
   "id": "201f34f7",
   "metadata": {},
   "outputs": [],
   "source": [
    "expected_model_version = '1.0'\n",
    "model_path = '../models/hospital_RR_model.pkl'\n",
    "if os.path.exists(model_path):\n",
    "    with open(model_path, 'rb') as f:\n",
    "        model = pickle.load(f)\n",
    "    if model.version != expected_model_version:\n",
    "        print(\"Expected model version doesn't match version loaded\")\n",
    "    if model.sklearn_version != sklearn_version:\n",
    "        print(\"Warning: model created under different sklearn version\")\n",
    "else:\n",
    "    print(\"Expected model not found\")"
   ]
  },
  {
   "cell_type": "markdown",
   "id": "de69983d",
   "metadata": {},
   "source": [
    "### Load Data"
   ]
  },
  {
   "cell_type": "code",
   "execution_count": 59,
   "id": "aed83d2d",
   "metadata": {},
   "outputs": [],
   "source": [
    "#Data table with hipass of 200 inpatient cases per hospital used to generate fnal model\n",
    "hosp_data = pd.read_csv('../data/main_df_post2_200.csv')"
   ]
  },
  {
   "cell_type": "code",
   "execution_count": 60,
   "id": "aa28724d",
   "metadata": {},
   "outputs": [
    {
     "name": "stdout",
     "output_type": "stream",
     "text": [
      "<class 'pandas.core.frame.DataFrame'>\n",
      "RangeIndex: 2473 entries, 0 to 2472\n",
      "Data columns (total 37 columns):\n",
      " #   Column                Non-Null Count  Dtype  \n",
      "---  ------                --------------  -----  \n",
      " 0   ReadmissionRate       2473 non-null   float64\n",
      " 1   Facility_ID           2473 non-null   object \n",
      " 2   City                  2473 non-null   object \n",
      " 3   State                 2473 non-null   object \n",
      " 4   County                2473 non-null   object \n",
      " 5   Total_Admissions      2473 non-null   int64  \n",
      " 6   HAI_1_SIR             1949 non-null   float64\n",
      " 7   HAI_2_SIR             2133 non-null   float64\n",
      " 8   HAI_5_SIR             1674 non-null   float64\n",
      " 9   HAI_6_SIR             2320 non-null   float64\n",
      " 10  PSI_3                 2445 non-null   float64\n",
      " 11  PSI_6                 2445 non-null   float64\n",
      " 12  PSI_8                 2445 non-null   float64\n",
      " 13  PSI_9                 2436 non-null   float64\n",
      " 14  PSI_10                2335 non-null   float64\n",
      " 15  PSI_11                2322 non-null   float64\n",
      " 16  PSI_12                2436 non-null   float64\n",
      " 17  PSI_13                2319 non-null   float64\n",
      " 18  PSI_14                2394 non-null   float64\n",
      " 19  PSI_15                2434 non-null   float64\n",
      " 20  PSI_90                2445 non-null   float64\n",
      " 21  H_Comp_Ov             2423 non-null   float64\n",
      " 22  AMI_TA_PROP           1920 non-null   float64\n",
      " 23  COPD_TA_PROP          2391 non-null   float64\n",
      " 24  HF_TA_PROP            2420 non-null   float64\n",
      " 25  HIPKNEE_TA_PROP       2084 non-null   float64\n",
      " 26  PN_TA_PROP            2397 non-null   float64\n",
      " 27  ED_MEDIAN_VISIT_MINS  2308 non-null   float64\n",
      " 28  ED_LEFT_NOT_SEEN_%    1796 non-null   float64\n",
      " 29  ED_VOLUME             2473 non-null   float64\n",
      " 30  %_SEPSIS_CARE         2255 non-null   float64\n",
      " 31  %_HCWs_FLU_VAX        2325 non-null   float64\n",
      " 32  2018to2020_PCPI       2472 non-null   float64\n",
      " 33  Population_2019       2473 non-null   float64\n",
      " 34  MEDIAN_AGE_TOT        2473 non-null   float64\n",
      " 35  County_Facilities     2473 non-null   int64  \n",
      " 36  Pop/Hosp              2473 non-null   float64\n",
      "dtypes: float64(31), int64(2), object(4)\n",
      "memory usage: 715.0+ KB\n"
     ]
    }
   ],
   "source": [
    "hosp_data.info()"
   ]
  },
  {
   "cell_type": "code",
   "execution_count": 61,
   "id": "90faf1a5",
   "metadata": {},
   "outputs": [],
   "source": [
    "#Separating out our target/client hospital\n",
    "targ_hosp = hosp_data[hosp_data.Facility_ID == '310041']"
   ]
  },
  {
   "cell_type": "code",
   "execution_count": 62,
   "id": "abc64b97",
   "metadata": {},
   "outputs": [
    {
     "data": {
      "text/html": [
       "<div>\n",
       "<style scoped>\n",
       "    .dataframe tbody tr th:only-of-type {\n",
       "        vertical-align: middle;\n",
       "    }\n",
       "\n",
       "    .dataframe tbody tr th {\n",
       "        vertical-align: top;\n",
       "    }\n",
       "\n",
       "    .dataframe thead th {\n",
       "        text-align: right;\n",
       "    }\n",
       "</style>\n",
       "<table border=\"1\" class=\"dataframe\">\n",
       "  <thead>\n",
       "    <tr style=\"text-align: right;\">\n",
       "      <th></th>\n",
       "      <th>1410</th>\n",
       "    </tr>\n",
       "  </thead>\n",
       "  <tbody>\n",
       "    <tr>\n",
       "      <th>ReadmissionRate</th>\n",
       "      <td>16.8</td>\n",
       "    </tr>\n",
       "    <tr>\n",
       "      <th>Facility_ID</th>\n",
       "      <td>310041</td>\n",
       "    </tr>\n",
       "    <tr>\n",
       "      <th>City</th>\n",
       "      <td>TOMS RIVER</td>\n",
       "    </tr>\n",
       "    <tr>\n",
       "      <th>State</th>\n",
       "      <td>NJ</td>\n",
       "    </tr>\n",
       "    <tr>\n",
       "      <th>County</th>\n",
       "      <td>Ocean</td>\n",
       "    </tr>\n",
       "    <tr>\n",
       "      <th>Total_Admissions</th>\n",
       "      <td>2877</td>\n",
       "    </tr>\n",
       "    <tr>\n",
       "      <th>HAI_1_SIR</th>\n",
       "      <td>0.732</td>\n",
       "    </tr>\n",
       "    <tr>\n",
       "      <th>HAI_2_SIR</th>\n",
       "      <td>0.376</td>\n",
       "    </tr>\n",
       "    <tr>\n",
       "      <th>HAI_5_SIR</th>\n",
       "      <td>0.376</td>\n",
       "    </tr>\n",
       "    <tr>\n",
       "      <th>HAI_6_SIR</th>\n",
       "      <td>0.415</td>\n",
       "    </tr>\n",
       "    <tr>\n",
       "      <th>PSI_3</th>\n",
       "      <td>0.691967</td>\n",
       "    </tr>\n",
       "    <tr>\n",
       "      <th>PSI_6</th>\n",
       "      <td>0.181387</td>\n",
       "    </tr>\n",
       "    <tr>\n",
       "      <th>PSI_8</th>\n",
       "      <td>0.095681</td>\n",
       "    </tr>\n",
       "    <tr>\n",
       "      <th>PSI_9</th>\n",
       "      <td>2.61645</td>\n",
       "    </tr>\n",
       "    <tr>\n",
       "      <th>PSI_10</th>\n",
       "      <td>1.52396</td>\n",
       "    </tr>\n",
       "    <tr>\n",
       "      <th>PSI_11</th>\n",
       "      <td>8.94633</td>\n",
       "    </tr>\n",
       "    <tr>\n",
       "      <th>PSI_12</th>\n",
       "      <td>2.44221</td>\n",
       "    </tr>\n",
       "    <tr>\n",
       "      <th>PSI_13</th>\n",
       "      <td>6.67501</td>\n",
       "    </tr>\n",
       "    <tr>\n",
       "      <th>PSI_14</th>\n",
       "      <td>0.761408</td>\n",
       "    </tr>\n",
       "    <tr>\n",
       "      <th>PSI_15</th>\n",
       "      <td>0.694007</td>\n",
       "    </tr>\n",
       "    <tr>\n",
       "      <th>PSI_90</th>\n",
       "      <td>1.15817</td>\n",
       "    </tr>\n",
       "    <tr>\n",
       "      <th>H_Comp_Ov</th>\n",
       "      <td>2</td>\n",
       "    </tr>\n",
       "    <tr>\n",
       "      <th>AMI_TA_PROP</th>\n",
       "      <td>0.154327</td>\n",
       "    </tr>\n",
       "    <tr>\n",
       "      <th>COPD_TA_PROP</th>\n",
       "      <td>0.332291</td>\n",
       "    </tr>\n",
       "    <tr>\n",
       "      <th>HF_TA_PROP</th>\n",
       "      <td>0.444213</td>\n",
       "    </tr>\n",
       "    <tr>\n",
       "      <th>HIPKNEE_TA_PROP</th>\n",
       "      <td>0.128606</td>\n",
       "    </tr>\n",
       "    <tr>\n",
       "      <th>PN_TA_PROP</th>\n",
       "      <td>0.421967</td>\n",
       "    </tr>\n",
       "    <tr>\n",
       "      <th>ED_MEDIAN_VISIT_MINS</th>\n",
       "      <td>192</td>\n",
       "    </tr>\n",
       "    <tr>\n",
       "      <th>ED_LEFT_NOT_SEEN_%</th>\n",
       "      <td>1</td>\n",
       "    </tr>\n",
       "    <tr>\n",
       "      <th>ED_VOLUME</th>\n",
       "      <td>4</td>\n",
       "    </tr>\n",
       "    <tr>\n",
       "      <th>%_SEPSIS_CARE</th>\n",
       "      <td>71</td>\n",
       "    </tr>\n",
       "    <tr>\n",
       "      <th>%_HCWs_FLU_VAX</th>\n",
       "      <td>92</td>\n",
       "    </tr>\n",
       "    <tr>\n",
       "      <th>2018to2020_PCPI</th>\n",
       "      <td>54195.3</td>\n",
       "    </tr>\n",
       "    <tr>\n",
       "      <th>Population_2019</th>\n",
       "      <td>607186</td>\n",
       "    </tr>\n",
       "    <tr>\n",
       "      <th>MEDIAN_AGE_TOT</th>\n",
       "      <td>42.4</td>\n",
       "    </tr>\n",
       "    <tr>\n",
       "      <th>County_Facilities</th>\n",
       "      <td>4</td>\n",
       "    </tr>\n",
       "    <tr>\n",
       "      <th>Pop/Hosp</th>\n",
       "      <td>151796</td>\n",
       "    </tr>\n",
       "  </tbody>\n",
       "</table>\n",
       "</div>"
      ],
      "text/plain": [
       "                            1410\n",
       "ReadmissionRate             16.8\n",
       "Facility_ID               310041\n",
       "City                  TOMS RIVER\n",
       "State                         NJ\n",
       "County                     Ocean\n",
       "Total_Admissions            2877\n",
       "HAI_1_SIR                  0.732\n",
       "HAI_2_SIR                  0.376\n",
       "HAI_5_SIR                  0.376\n",
       "HAI_6_SIR                  0.415\n",
       "PSI_3                   0.691967\n",
       "PSI_6                   0.181387\n",
       "PSI_8                   0.095681\n",
       "PSI_9                    2.61645\n",
       "PSI_10                   1.52396\n",
       "PSI_11                   8.94633\n",
       "PSI_12                   2.44221\n",
       "PSI_13                   6.67501\n",
       "PSI_14                  0.761408\n",
       "PSI_15                  0.694007\n",
       "PSI_90                   1.15817\n",
       "H_Comp_Ov                      2\n",
       "AMI_TA_PROP             0.154327\n",
       "COPD_TA_PROP            0.332291\n",
       "HF_TA_PROP              0.444213\n",
       "HIPKNEE_TA_PROP         0.128606\n",
       "PN_TA_PROP              0.421967\n",
       "ED_MEDIAN_VISIT_MINS         192\n",
       "ED_LEFT_NOT_SEEN_%             1\n",
       "ED_VOLUME                      4\n",
       "%_SEPSIS_CARE                 71\n",
       "%_HCWs_FLU_VAX                92\n",
       "2018to2020_PCPI          54195.3\n",
       "Population_2019           607186\n",
       "MEDIAN_AGE_TOT              42.4\n",
       "County_Facilities              4\n",
       "Pop/Hosp                  151796"
      ]
     },
     "execution_count": 62,
     "metadata": {},
     "output_type": "execute_result"
    }
   ],
   "source": [
    "targ_hosp.T"
   ]
  },
  {
   "cell_type": "code",
   "execution_count": 63,
   "id": "f4bae66a",
   "metadata": {},
   "outputs": [
    {
     "name": "stdout",
     "output_type": "stream",
     "text": [
      "<class 'pandas.core.frame.DataFrame'>\n",
      "Int64Index: 1 entries, 1410 to 1410\n",
      "Data columns (total 37 columns):\n",
      " #   Column                Non-Null Count  Dtype  \n",
      "---  ------                --------------  -----  \n",
      " 0   ReadmissionRate       1 non-null      float64\n",
      " 1   Facility_ID           1 non-null      object \n",
      " 2   City                  1 non-null      object \n",
      " 3   State                 1 non-null      object \n",
      " 4   County                1 non-null      object \n",
      " 5   Total_Admissions      1 non-null      int64  \n",
      " 6   HAI_1_SIR             1 non-null      float64\n",
      " 7   HAI_2_SIR             1 non-null      float64\n",
      " 8   HAI_5_SIR             1 non-null      float64\n",
      " 9   HAI_6_SIR             1 non-null      float64\n",
      " 10  PSI_3                 1 non-null      float64\n",
      " 11  PSI_6                 1 non-null      float64\n",
      " 12  PSI_8                 1 non-null      float64\n",
      " 13  PSI_9                 1 non-null      float64\n",
      " 14  PSI_10                1 non-null      float64\n",
      " 15  PSI_11                1 non-null      float64\n",
      " 16  PSI_12                1 non-null      float64\n",
      " 17  PSI_13                1 non-null      float64\n",
      " 18  PSI_14                1 non-null      float64\n",
      " 19  PSI_15                1 non-null      float64\n",
      " 20  PSI_90                1 non-null      float64\n",
      " 21  H_Comp_Ov             1 non-null      float64\n",
      " 22  AMI_TA_PROP           1 non-null      float64\n",
      " 23  COPD_TA_PROP          1 non-null      float64\n",
      " 24  HF_TA_PROP            1 non-null      float64\n",
      " 25  HIPKNEE_TA_PROP       1 non-null      float64\n",
      " 26  PN_TA_PROP            1 non-null      float64\n",
      " 27  ED_MEDIAN_VISIT_MINS  1 non-null      float64\n",
      " 28  ED_LEFT_NOT_SEEN_%    1 non-null      float64\n",
      " 29  ED_VOLUME             1 non-null      float64\n",
      " 30  %_SEPSIS_CARE         1 non-null      float64\n",
      " 31  %_HCWs_FLU_VAX        1 non-null      float64\n",
      " 32  2018to2020_PCPI       1 non-null      float64\n",
      " 33  Population_2019       1 non-null      float64\n",
      " 34  MEDIAN_AGE_TOT        1 non-null      float64\n",
      " 35  County_Facilities     1 non-null      int64  \n",
      " 36  Pop/Hosp              1 non-null      float64\n",
      "dtypes: float64(31), int64(2), object(4)\n",
      "memory usage: 384.0+ bytes\n"
     ]
    }
   ],
   "source": [
    "targ_hosp.info()"
   ]
  },
  {
   "cell_type": "markdown",
   "id": "5bd6956e",
   "metadata": {},
   "source": [
    "### Refit Model on All Available Data (Excluding Target Hospital)"
   ]
  },
  {
   "cell_type": "markdown",
   "id": "52dbdd5f",
   "metadata": {},
   "source": [
    "We want to train a model to predict our client hospital's readmission rate based on data from all of the other hospitals."
   ]
  },
  {
   "cell_type": "code",
   "execution_count": 64,
   "id": "f6403e24",
   "metadata": {},
   "outputs": [],
   "source": [
    "X = hosp_data.loc[hosp_data.Facility_ID != \"310041\", model.X_columns]\n",
    "y = hosp_data.loc[hosp_data.Facility_ID != \"310041\", 'ReadmissionRate']"
   ]
  },
  {
   "cell_type": "code",
   "execution_count": 65,
   "id": "3a78fbd5",
   "metadata": {},
   "outputs": [
    {
     "data": {
      "text/plain": [
       "(2472, 2472)"
      ]
     },
     "execution_count": 65,
     "metadata": {},
     "output_type": "execute_result"
    }
   ],
   "source": [
    "len(X), len(y)"
   ]
  },
  {
   "cell_type": "code",
   "execution_count": 66,
   "id": "60a02742",
   "metadata": {},
   "outputs": [
    {
     "data": {
      "text/plain": [
       "Pipeline(steps=[('simpleimputer', SimpleImputer()), ('standardscaler', None),\n",
       "                ('histgradientboostingregressor',\n",
       "                 HistGradientBoostingRegressor(learning_rate=0.06, max_depth=5,\n",
       "                                               max_iter=40, random_state=47))])"
      ]
     },
     "execution_count": 66,
     "metadata": {},
     "output_type": "execute_result"
    }
   ],
   "source": [
    "model.fit(X, y)"
   ]
  },
  {
   "cell_type": "markdown",
   "id": "379b0399",
   "metadata": {},
   "source": [
    "#### Mean Absolute Error (MAE)"
   ]
  },
  {
   "cell_type": "code",
   "execution_count": 67,
   "id": "a9544980",
   "metadata": {},
   "outputs": [],
   "source": [
    "cv_results = cross_validate(model, X, y, scoring='neg_mean_absolute_error', cv=5)"
   ]
  },
  {
   "cell_type": "code",
   "execution_count": 68,
   "id": "05e509b9",
   "metadata": {},
   "outputs": [
    {
     "data": {
      "text/plain": [
       "array([-0.5592862 , -0.60410999, -0.60575533, -0.54108386, -0.53348415])"
      ]
     },
     "execution_count": 68,
     "metadata": {},
     "output_type": "execute_result"
    }
   ],
   "source": [
    "cv_results['test_score']"
   ]
  },
  {
   "cell_type": "code",
   "execution_count": 69,
   "id": "3658b8ae",
   "metadata": {},
   "outputs": [
    {
     "data": {
      "text/plain": [
       "(0.5687439081447355, 0.030719317406488676)"
      ]
     },
     "execution_count": 69,
     "metadata": {},
     "output_type": "execute_result"
    }
   ],
   "source": [
    "mae_mean, mae_std = np.mean(-1 * cv_results['test_score']), np.std(-1 * cv_results['test_score'])\n",
    "mae_mean, mae_std"
   ]
  },
  {
   "cell_type": "markdown",
   "id": "af2fc429",
   "metadata": {},
   "source": [
    "#### Root Mean Squared Error (RMSE)"
   ]
  },
  {
   "cell_type": "code",
   "execution_count": 70,
   "id": "fa4a7e3a",
   "metadata": {},
   "outputs": [],
   "source": [
    "cv_results2 = cross_validate(model, X, y, scoring='neg_root_mean_squared_error', cv=5)"
   ]
  },
  {
   "cell_type": "code",
   "execution_count": 71,
   "id": "14a3c46d",
   "metadata": {},
   "outputs": [
    {
     "data": {
      "text/plain": [
       "array([-0.72870123, -0.78306256, -0.7940349 , -0.72373802, -0.66748773])"
      ]
     },
     "execution_count": 71,
     "metadata": {},
     "output_type": "execute_result"
    }
   ],
   "source": [
    "cv_results2['test_score']"
   ]
  },
  {
   "cell_type": "code",
   "execution_count": 72,
   "id": "f7b47494",
   "metadata": {},
   "outputs": [
    {
     "data": {
      "text/plain": [
       "(0.7394048893187808, 0.04565638248405665)"
      ]
     },
     "execution_count": 72,
     "metadata": {},
     "output_type": "execute_result"
    }
   ],
   "source": [
    "rmse_mean, rmse_std = np.mean(-1 * cv_results2['test_score']), np.std(-1 * cv_results2['test_score'])\n",
    "rmse_mean, rmse_std"
   ]
  },
  {
   "cell_type": "markdown",
   "id": "85a9ff3f",
   "metadata": {},
   "source": [
    "### Calculate Expected Client Hospital Readmission Rate From the Model"
   ]
  },
  {
   "cell_type": "code",
   "execution_count": 73,
   "id": "63796d52",
   "metadata": {},
   "outputs": [],
   "source": [
    "X_client = hosp_data.loc[hosp_data.Facility_ID == \"310041\", model.X_columns]\n",
    "y_client = hosp_data.loc[hosp_data.Facility_ID == \"310041\", 'ReadmissionRate']"
   ]
  },
  {
   "cell_type": "code",
   "execution_count": 74,
   "id": "3de3747d",
   "metadata": {},
   "outputs": [],
   "source": [
    "client_pred = model.predict(X_client).item()"
   ]
  },
  {
   "cell_type": "code",
   "execution_count": 75,
   "id": "0cb8a5b8",
   "metadata": {},
   "outputs": [],
   "source": [
    "y_client = y_client.values.item()"
   ]
  },
  {
   "cell_type": "code",
   "execution_count": 76,
   "id": "0ee9ede9",
   "metadata": {},
   "outputs": [
    {
     "name": "stdout",
     "output_type": "stream",
     "text": [
      "Client modelled Readmission Rate is 15.45, actual Readmission Rate is 16.80.\n",
      "Even with the expected root mean squared error of 0.74, this suggests there is room for improvement in next cycle just by chance.\n"
     ]
    }
   ],
   "source": [
    "print(f'Client modelled Readmission Rate is {client_pred:.2f}, actual Readmission Rate is {y_client:.2f}.')\n",
    "print(f'Even with the expected root mean squared error of {rmse_mean:.2f}, this suggests there is room for improvement in next cycle just by chance.')"
   ]
  },
  {
   "cell_type": "markdown",
   "id": "0ed8d309",
   "metadata": {},
   "source": [
    "### Client Hospital in Context"
   ]
  },
  {
   "cell_type": "markdown",
   "id": "f062690b",
   "metadata": {},
   "source": [
    "Features that came up as paritcularly important in Random Forest Model (performed nearly as well as the HGB model):\n",
    "* HIPKNEE_TA_PROP (-): Proportion of initial admissions with a (non-mutually exclusive) reason as hip/knee replacement surgery\n",
    "* AMI_TA_PROP (-): Proportion of initial admissions with a (non-mutually exclusive) reason as acute myocardial infarction\n",
    "* PSI_11 (+): Postoperative respiratory failure score (higher = relatively more frequent than expected for a similar hospital according to CMS)"
   ]
  },
  {
   "cell_type": "code",
   "execution_count": 77,
   "id": "3477609e",
   "metadata": {},
   "outputs": [],
   "source": [
    "#Looking at client hospital in context of sample population for these features\n",
    "def plot_compare(feat_name, description, State=None, figsize=(10, 5)):\n",
    "    \"\"\"Graphically compare distributions of features.\n",
    "    \n",
    "    Plot histogram of values for all resorts and reference line to mark\n",
    "    Client Hospital's position.\n",
    "    \n",
    "    Arguments:\n",
    "    feat_name - the feature column name in the data\n",
    "    description - text description of the feature\n",
    "    state - select a specific state (None for all states)\n",
    "    figsize - (optional) figure size\n",
    "    \"\"\"\n",
    "    \n",
    "    plt.subplots(figsize=figsize)\n",
    "    # quirk that hist sometimes objects to NaNs, sometimes doesn't\n",
    "    # filtering only for finite values tidies this up\n",
    "    if State is None:\n",
    "        hosp_x = hosp_data[feat_name]\n",
    "    else:\n",
    "        hosp_x = hosp_data.loc[hosp_data.State == State, feat_name]\n",
    "    hosp_x = hosp_x[np.isfinite(hosp_x)]\n",
    "    plt.hist(hosp_x, bins=30)\n",
    "    plt.axvline(x=targ_hosp[feat_name].values, c='r', ls='--', alpha=0.8, label='Client Hospital')\n",
    "    plt.xlabel(description)\n",
    "    plt.ylabel('frequency')\n",
    "    plt.title(description + ' distribution for comparable hospitals in data set')\n",
    "    plt.legend()"
   ]
  },
  {
   "cell_type": "code",
   "execution_count": 78,
   "id": "1cb24b12",
   "metadata": {},
   "outputs": [
    {
     "data": {
      "image/png": "[encoded data removed]",
      "text/plain": [
       "<Figure size 720x360 with 1 Axes>"
      ]
     },
     "metadata": {
      "needs_background": "light"
     },
     "output_type": "display_data"
    }
   ],
   "source": [
    "plot_compare('ReadmissionRate', '')"
   ]
  },
  {
   "cell_type": "code",
   "execution_count": 79,
   "id": "20ea2dda",
   "metadata": {},
   "outputs": [
    {
     "data": {
      "image/png": "[encoded data removed]",
      "text/plain": [
       "<Figure size 720x360 with 1 Axes>"
      ]
     },
     "metadata": {
      "needs_background": "light"
     },
     "output_type": "display_data"
    }
   ],
   "source": [
    "plot_compare('HIPKNEE_TA_PROP', 'Proportion of Initial Admissions With HIPKNEE Replacement as a Reason for Admission')"
   ]
  },
  {
   "cell_type": "code",
   "execution_count": 80,
   "id": "cb271e0b",
   "metadata": {},
   "outputs": [
    {
     "data": {
      "image/png": "[encoded data removed]",
      "text/plain": [
       "<Figure size 720x360 with 1 Axes>"
      ]
     },
     "metadata": {
      "needs_background": "light"
     },
     "output_type": "display_data"
    }
   ],
   "source": [
    "plot_compare('AMI_TA_PROP', 'Proportion of Initial Admissions With AMI as a Reason for Admission')"
   ]
  },
  {
   "cell_type": "code",
   "execution_count": 81,
   "id": "e25759c7",
   "metadata": {},
   "outputs": [
    {
     "data": {
      "image/png": "[encoded data removed]",
      "text/plain": [
       "<Figure size 720x360 with 1 Axes>"
      ]
     },
     "metadata": {
      "needs_background": "light"
     },
     "output_type": "display_data"
    }
   ],
   "source": [
    "plot_compare('PSI_11', 'Postoperative Respiratory Failure Score -Higher is Greater Risk')"
   ]
  },
  {
   "cell_type": "code",
   "execution_count": 82,
   "id": "5ead88eb",
   "metadata": {},
   "outputs": [
    {
     "data": {
      "image/png": "[encoded data removed]",
      "text/plain": [
       "<Figure size 720x360 with 1 Axes>"
      ]
     },
     "metadata": {
      "needs_background": "light"
     },
     "output_type": "display_data"
    }
   ],
   "source": [
    "plot_compare('COPD_TA_PROP', 'Proportion of Initial Admissions With COPD as a Reason for Admission')"
   ]
  },
  {
   "cell_type": "markdown",
   "id": "4f17c5cc",
   "metadata": {},
   "source": [
    "Perhaps most notably, our client hospital scored very poorly on normalized postoperative respiratory score (PSI-11) relative to the population. Also, our client hospital was toward the low end of the distribution for proportion of initial admissions with a (non-mutually exclusive) reason as hip/knee replacement surgery (HIP_KNEE_TA_PROP)."
   ]
  },
  {
   "cell_type": "markdown",
   "id": "2f833e5b",
   "metadata": {},
   "source": [
    "### Modeling Scenarios"
   ]
  },
  {
   "cell_type": "markdown",
   "id": "9388c2f8",
   "metadata": {},
   "source": [
    "It would be of interest to know if improvement on normalized postoperative respiratory score (PSI-11), to the population median, would improve the best model-based Readmission Rate for our client hospital. There is the possibility that increased vigilance, training and new protocols could lead to improvement in this metric. Also of interest is knowing whether an increase in the proportion of initial admissions for hip/knee replacement surgery would yield an improved Readmission Rate. "
   ]
  },
  {
   "cell_type": "code",
   "execution_count": 83,
   "id": "04c378a6",
   "metadata": {},
   "outputs": [],
   "source": [
    "#In this function, we copy the Target Hospital data into a new data frame\n",
    "#And then for each feature, and each of its deltas (changes from the original),\n",
    "#we create the modified scenario dataframe (th2) and make a readmission rate prediction\n",
    "#for it. The difference between the scenario's prediction and the current\n",
    "#prediction is then calculated and returned.\n",
    "def predict_increase(features, deltas):\n",
    "    \"\"\"Increase in modelled readmission rate by applying delta to feature.\n",
    "    \n",
    "    Arguments:\n",
    "    features - list, names of the features in the hosp_data dataframe to change\n",
    "    deltas - list, the amounts by which to increase the values of the features\n",
    "    \n",
    "    Outputs:\n",
    "    Amount of increase in the predicted readmission rate\n",
    "    \n",
    "    \"\"\"\n",
    "    \n",
    "    th2 = X_client.copy()\n",
    "    for f, d in zip(features, deltas):\n",
    "        th2[features] += deltas\n",
    "    return model.predict(th2).item() - model.predict(X_client).item()"
   ]
  },
  {
   "cell_type": "markdown",
   "id": "f7559b0b",
   "metadata": {},
   "source": [
    "#### For Impactful Features Where Target Hospital 'Underperforms', Calculate Delta to Get to Hospital Population Means"
   ]
  },
  {
   "cell_type": "code",
   "execution_count": 84,
   "id": "582cd2c1",
   "metadata": {},
   "outputs": [
    {
     "data": {
      "text/plain": [
       "-4.091966999999999"
      ]
     },
     "execution_count": 84,
     "metadata": {},
     "output_type": "execute_result"
    }
   ],
   "source": [
    "desired_delta_1 = hosp_data[\"PSI_11\"].median() - targ_hosp.iloc[0,15]\n",
    "desired_delta_1"
   ]
  },
  {
   "cell_type": "code",
   "execution_count": 85,
   "id": "9893225c",
   "metadata": {},
   "outputs": [
    {
     "data": {
      "text/plain": [
       "(4.8543590000000005, 8.946326)"
      ]
     },
     "execution_count": 85,
     "metadata": {},
     "output_type": "execute_result"
    }
   ],
   "source": [
    "hosp_data[\"PSI_11\"].median(), targ_hosp.iloc[0,15]"
   ]
  },
  {
   "cell_type": "code",
   "execution_count": 86,
   "id": "e694ea71",
   "metadata": {},
   "outputs": [
    {
     "data": {
      "text/plain": [
       "0.09939231231925921"
      ]
     },
     "execution_count": 86,
     "metadata": {},
     "output_type": "execute_result"
    }
   ],
   "source": [
    "desired_delta_2 = hosp_data[\"HIPKNEE_TA_PROP\"].median() - targ_hosp.iloc[0,25]\n",
    "desired_delta_2"
   ]
  },
  {
   "cell_type": "code",
   "execution_count": 87,
   "id": "e0d6a471",
   "metadata": {},
   "outputs": [
    {
     "data": {
      "text/plain": [
       "(0.2279984993196068, 0.1286061870003476)"
      ]
     },
     "execution_count": 87,
     "metadata": {},
     "output_type": "execute_result"
    }
   ],
   "source": [
    "hosp_data[\"HIPKNEE_TA_PROP\"].median(), targ_hosp.iloc[0,25]"
   ]
  },
  {
   "cell_type": "markdown",
   "id": "aaa45190",
   "metadata": {},
   "source": [
    "### Scenario: Reducing Postoperative Respiratory Failure Score to that of Hospital Population Median and Increasing the Proportion of Inpatient Hip-Knee Replacement Cases to Hospital Population Median"
   ]
  },
  {
   "cell_type": "code",
   "execution_count": 88,
   "id": "9eafd76d",
   "metadata": {},
   "outputs": [
    {
     "data": {
      "text/plain": [
       "-0.3161290053680972"
      ]
     },
     "execution_count": 88,
     "metadata": {},
     "output_type": "execute_result"
    }
   ],
   "source": [
    "RR_increase = predict_increase(['HIPKNEE_TA_PROP', 'PSI_11'], [desired_delta_2, desired_delta_1])\n",
    "RR_increase"
   ]
  },
  {
   "cell_type": "code",
   "execution_count": 89,
   "id": "3769c6d8",
   "metadata": {},
   "outputs": [
    {
     "name": "stdout",
     "output_type": "stream",
     "text": [
      "This scenario reduces model-predicted Readmission Rate by -0.32%\n"
     ]
    }
   ],
   "source": [
    "print(f'This scenario reduces model-predicted Readmission Rate by {RR_increase:.2f}%')"
   ]
  },
  {
   "cell_type": "markdown",
   "id": "fe3dc102",
   "metadata": {},
   "source": [
    "## Business Case Conclusions"
   ]
  },
  {
   "cell_type": "markdown",
   "id": "22dad4ec",
   "metadata": {},
   "source": [
    "#### Not making any changes in hospital processes, procedures, or general business practice may still result in the 1% decrease in RR required to avoid CMS penalty, simply due to regression toward mean expectation. \n",
    "\n",
    "Rationale: The model predicts an RR of 15.5% (+-.7%) for CMC, while the actual RR last year was 16.8%. Considering the mean difference and margin of error, such a decrease is well within the range of probable outcomes. \n",
    "\n",
    "#### If CMC is inclined to make several rapid, low investment changes that may have an impact in RR, a combination of modestly expanding capacity for hip-knee replacement surgeries and focusing on improving existing protocols for detection and treatment of post-operative respiratory failure is worth exploring.\n",
    " \n",
    " Rationale: The proportion of hip-knee replacements in the case mix has a negative correlation with RR. Additionally, though not implying a causative effect on RR, this feature was also the most important of all in model generation. CMC is currently on the low end of the hospital sample distribution in terms of hip-knee replacements in the case mix. In contrast, CMC is at the extreme high end of the distribution for postoperative respiratory failure rate, a feature with a positive correlation with RR. As with hip-knee replacement, post-operative respiratory failure rate was also one of the most important features in model generation (which, again, does not imply causation of RR). \n",
    "To this end, a scenario in which both of the aforementioned features are brought to hospital sample median level for CMC yields a prediction of RR reduction of 0.32%, which is 32% of the goal reduction of 1%. For hip-knee replacement rate, getting to the sample median would mean an increase from 13% of total inpatient cases to 27% of total inpatient cases.  For postoperative respiratory failure rate, getting to the sample median would mean a decrease from 9% to 5%. Though these reductions in full may be infeasible within a year, modest movement in the right direction for each, coupled to regression toward mean expectation (see Summary Point #1), may be sufficient to achieve the goal reduction. \n",
    "\n",
    "Though potentially not possible to modify in an ethical way, and thus not included in this modeling scenario, it is worth noting that CMC also has a case rate involving COPD at admission in the upper-third of the sample distribution. As with postoperative respiratory failure rate, this is a respiratory feature that has a positive correlation with RR (and, likewise, was one of the most important features in model generation). The relatively high postoperative failure rate for CMC may, in fact, be closely related to the well higher-than-average proportion of patients who are admitted as inpatients at CMC already with breathing problems (COPD). Therefore, extra vigilance for patients in the post-operative period who presented with COPD at admission may make attempts to globally reduce postoperative respiratory failure rate more effective. \n"
   ]
  },
  {
   "cell_type": "markdown",
   "id": "37c26c0a",
   "metadata": {},
   "source": [
    "## Future Directions"
   ]
  },
  {
   "cell_type": "markdown",
   "id": "668405b2",
   "metadata": {},
   "source": [
    "Though the feature-rich machine learning model is substantially more accurate in prediction of hospital readmission rates (RR) than simple methods, such as prediction with the sample mean, such prediction remains a challenging task. One of the main reasons for this is that RRs are relatively tightly clustered within a few percentage point range. And, as we saw with prediction of the client hospital RR, margin of error for a given hospital in a given year can be a substantial proportion of this overall distribution. \n",
    "With the above said, there are several clear avenues to pursue in trying to improve model prediction of RR accuracy:\n",
    "1)  Conduct non-supervised analyses, such as Cluster Analysis, to initially classify hospitals in the overall sample by properties such as size, private vs public status, network affiliation status, case volume/mix, and demographic/socioeconomic context in which the hospital operates. Each of the resultant clusters can then be modeled separately, and prediction accuracy can be compared to that of the full, highly heterogenous sample (as was conducted presently).\n",
    "\n",
    "2) Seek and obtain better data on facility resourcing at the hospital level. One of the main data holes in the present analysis is that hospital resourcing had to be measured indirectly. This was done several ways, for example by creating features that considered county-level population, hospital density and facility case load together to infer aspects of “ facility burden”. Much more optimal would be to have raw data, and be able to compute derivative features, for hospital-level resources directly. The raw data would include numbers of doctors and nurses, number of operating rooms, number of ICU beds, and all of the previous in relation to number of patient numbers.\n",
    "\n",
    "3)  Seek and obtain patient-level data at the hospital level. Additionally, though I created patient features involving socioeconomics (such as median income) and demographic features (such as median age) for the present study, these features were generated per hospital with county-level data. Much more ideal would be to obtain (anonymized, of course) hospital-level patient data from which to generate features characterizing patients at each hospital. This could perhaps facilitate “normalization” of hospital level outcomes metrics by baseline patient characteristics in a manner that would lead to improved prediction quality. \n"
   ]
  },
  {
   "cell_type": "code",
   "execution_count": null,
   "id": "e4bbb0f0",
   "metadata": {},
   "outputs": [],
   "source": []
  }
 ],
 "metadata": {
  "kernelspec": {
   "display_name": "Python 3",
   "language": "python",
   "name": "python3"
  },
  "language_info": {
   "codemirror_mode": {
    "name": "ipython",
    "version": 3
   },
   "file_extension": ".py",
   "mimetype": "text/x-python",
   "name": "python",
   "nbconvert_exporter": "python",
   "pygments_lexer": "ipython3",
   "version": "3.8.8"
  }
 },
 "nbformat": 4,
 "nbformat_minor": 5
}
