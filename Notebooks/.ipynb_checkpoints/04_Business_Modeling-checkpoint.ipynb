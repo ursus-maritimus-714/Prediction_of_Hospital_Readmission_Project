{
 "cells": [
  {
   "cell_type": "markdown",
   "id": "716cb14e",
   "metadata": {},
   "source": [
    "### Imports"
   ]
  },
  {
   "cell_type": "code",
   "execution_count": 1,
   "id": "29ee9205",
   "metadata": {},
   "outputs": [],
   "source": [
    "import pandas as pd\n",
    "import numpy as np\n",
    "import os\n",
    "import pickle\n",
    "import matplotlib.pyplot as plt\n",
    "import seaborn as sns\n",
    "from sklearn import __version__ as sklearn_version\n",
    "from sklearn.model_selection import cross_validate"
   ]
  },
  {
   "cell_type": "markdown",
   "id": "51fbf267",
   "metadata": {},
   "source": [
    "### Load Model"
   ]
  },
  {
   "cell_type": "code",
   "execution_count": 2,
   "id": "201f34f7",
   "metadata": {},
   "outputs": [],
   "source": [
    "expected_model_version = '1.0'\n",
    "model_path = '../models/hospital_RR_model.pkl'\n",
    "if os.path.exists(model_path):\n",
    "    with open(model_path, 'rb') as f:\n",
    "        model = pickle.load(f)\n",
    "    if model.version != expected_model_version:\n",
    "        print(\"Expected model version doesn't match version loaded\")\n",
    "    if model.sklearn_version != sklearn_version:\n",
    "        print(\"Warning: model created under different sklearn version\")\n",
    "else:\n",
    "    print(\"Expected model not found\")"
   ]
  },
  {
   "cell_type": "markdown",
   "id": "de69983d",
   "metadata": {},
   "source": [
    "### Load Data"
   ]
  },
  {
   "cell_type": "code",
   "execution_count": 3,
   "id": "aed83d2d",
   "metadata": {},
   "outputs": [],
   "source": [
    "#Data table with hipass of 200 inpatient cases per hospital used to generate fnal model\n",
    "hosp_data = pd.read_csv('../data/main_df_post2_200.csv')"
   ]
  },
  {
   "cell_type": "code",
   "execution_count": 4,
   "id": "90faf1a5",
   "metadata": {},
   "outputs": [],
   "source": [
    "#Separating out our target/client hospital\n",
    "targ_hosp = hosp_data[hosp_data.Facility_ID == '310041']"
   ]
  },
  {
   "cell_type": "code",
   "execution_count": 5,
   "id": "abc64b97",
   "metadata": {},
   "outputs": [
    {
     "data": {
      "text/html": [
       "<div>\n",
       "<style scoped>\n",
       "    .dataframe tbody tr th:only-of-type {\n",
       "        vertical-align: middle;\n",
       "    }\n",
       "\n",
       "    .dataframe tbody tr th {\n",
       "        vertical-align: top;\n",
       "    }\n",
       "\n",
       "    .dataframe thead th {\n",
       "        text-align: right;\n",
       "    }\n",
       "</style>\n",
       "<table border=\"1\" class=\"dataframe\">\n",
       "  <thead>\n",
       "    <tr style=\"text-align: right;\">\n",
       "      <th></th>\n",
       "      <th>1410</th>\n",
       "    </tr>\n",
       "  </thead>\n",
       "  <tbody>\n",
       "    <tr>\n",
       "      <th>Facility_ID</th>\n",
       "      <td>310041</td>\n",
       "    </tr>\n",
       "    <tr>\n",
       "      <th>City</th>\n",
       "      <td>TOMS RIVER</td>\n",
       "    </tr>\n",
       "    <tr>\n",
       "      <th>State</th>\n",
       "      <td>NJ</td>\n",
       "    </tr>\n",
       "    <tr>\n",
       "      <th>County</th>\n",
       "      <td>Ocean</td>\n",
       "    </tr>\n",
       "    <tr>\n",
       "      <th>Total_Admissions</th>\n",
       "      <td>2877</td>\n",
       "    </tr>\n",
       "    <tr>\n",
       "      <th>ReadmissionRate</th>\n",
       "      <td>16.8</td>\n",
       "    </tr>\n",
       "    <tr>\n",
       "      <th>HAI_1_SIR</th>\n",
       "      <td>0.732</td>\n",
       "    </tr>\n",
       "    <tr>\n",
       "      <th>HAI_2_SIR</th>\n",
       "      <td>0.376</td>\n",
       "    </tr>\n",
       "    <tr>\n",
       "      <th>HAI_5_SIR</th>\n",
       "      <td>0.376</td>\n",
       "    </tr>\n",
       "    <tr>\n",
       "      <th>HAI_6_SIR</th>\n",
       "      <td>0.415</td>\n",
       "    </tr>\n",
       "    <tr>\n",
       "      <th>PSI_3</th>\n",
       "      <td>0.691967</td>\n",
       "    </tr>\n",
       "    <tr>\n",
       "      <th>PSI_6</th>\n",
       "      <td>0.181387</td>\n",
       "    </tr>\n",
       "    <tr>\n",
       "      <th>PSI_8</th>\n",
       "      <td>0.095681</td>\n",
       "    </tr>\n",
       "    <tr>\n",
       "      <th>PSI_9</th>\n",
       "      <td>2.616452</td>\n",
       "    </tr>\n",
       "    <tr>\n",
       "      <th>PSI_10</th>\n",
       "      <td>1.523961</td>\n",
       "    </tr>\n",
       "    <tr>\n",
       "      <th>PSI_11</th>\n",
       "      <td>8.946326</td>\n",
       "    </tr>\n",
       "    <tr>\n",
       "      <th>PSI_12</th>\n",
       "      <td>2.442213</td>\n",
       "    </tr>\n",
       "    <tr>\n",
       "      <th>PSI_13</th>\n",
       "      <td>6.675008</td>\n",
       "    </tr>\n",
       "    <tr>\n",
       "      <th>PSI_14</th>\n",
       "      <td>0.761408</td>\n",
       "    </tr>\n",
       "    <tr>\n",
       "      <th>PSI_15</th>\n",
       "      <td>0.694007</td>\n",
       "    </tr>\n",
       "    <tr>\n",
       "      <th>PSI_90</th>\n",
       "      <td>1.158172</td>\n",
       "    </tr>\n",
       "    <tr>\n",
       "      <th>H_Comp_Ov</th>\n",
       "      <td>2.0</td>\n",
       "    </tr>\n",
       "    <tr>\n",
       "      <th>AMI_TA_PROP</th>\n",
       "      <td>0.154327</td>\n",
       "    </tr>\n",
       "    <tr>\n",
       "      <th>COPD_TA_PROP</th>\n",
       "      <td>0.332291</td>\n",
       "    </tr>\n",
       "    <tr>\n",
       "      <th>HF_TA_PROP</th>\n",
       "      <td>0.444213</td>\n",
       "    </tr>\n",
       "    <tr>\n",
       "      <th>HIPKNEE_TA_PROP</th>\n",
       "      <td>0.128606</td>\n",
       "    </tr>\n",
       "    <tr>\n",
       "      <th>PN_TA_PROP</th>\n",
       "      <td>0.421967</td>\n",
       "    </tr>\n",
       "    <tr>\n",
       "      <th>ED_MEDIAN_VISIT_MINS</th>\n",
       "      <td>192.0</td>\n",
       "    </tr>\n",
       "    <tr>\n",
       "      <th>ED_LEFT_NOT_SEEN_%</th>\n",
       "      <td>1.0</td>\n",
       "    </tr>\n",
       "    <tr>\n",
       "      <th>ED_VOLUME</th>\n",
       "      <td>4.0</td>\n",
       "    </tr>\n",
       "    <tr>\n",
       "      <th>%_SEPSIS_CARE</th>\n",
       "      <td>71.0</td>\n",
       "    </tr>\n",
       "    <tr>\n",
       "      <th>%_HCWs_FLU_VAX</th>\n",
       "      <td>92.0</td>\n",
       "    </tr>\n",
       "    <tr>\n",
       "      <th>2018to2020_PCPI</th>\n",
       "      <td>54195.333333</td>\n",
       "    </tr>\n",
       "    <tr>\n",
       "      <th>Population_2019</th>\n",
       "      <td>607186.0</td>\n",
       "    </tr>\n",
       "    <tr>\n",
       "      <th>MEDIAN_AGE_TOT</th>\n",
       "      <td>42.4</td>\n",
       "    </tr>\n",
       "    <tr>\n",
       "      <th>County_Facilities</th>\n",
       "      <td>4</td>\n",
       "    </tr>\n",
       "    <tr>\n",
       "      <th>Pop/Hosp</th>\n",
       "      <td>151796.5</td>\n",
       "    </tr>\n",
       "  </tbody>\n",
       "</table>\n",
       "</div>"
      ],
      "text/plain": [
       "                              1410\n",
       "Facility_ID                 310041\n",
       "City                    TOMS RIVER\n",
       "State                           NJ\n",
       "County                       Ocean\n",
       "Total_Admissions              2877\n",
       "ReadmissionRate               16.8\n",
       "HAI_1_SIR                    0.732\n",
       "HAI_2_SIR                    0.376\n",
       "HAI_5_SIR                    0.376\n",
       "HAI_6_SIR                    0.415\n",
       "PSI_3                     0.691967\n",
       "PSI_6                     0.181387\n",
       "PSI_8                     0.095681\n",
       "PSI_9                     2.616452\n",
       "PSI_10                    1.523961\n",
       "PSI_11                    8.946326\n",
       "PSI_12                    2.442213\n",
       "PSI_13                    6.675008\n",
       "PSI_14                    0.761408\n",
       "PSI_15                    0.694007\n",
       "PSI_90                    1.158172\n",
       "H_Comp_Ov                      2.0\n",
       "AMI_TA_PROP               0.154327\n",
       "COPD_TA_PROP              0.332291\n",
       "HF_TA_PROP                0.444213\n",
       "HIPKNEE_TA_PROP           0.128606\n",
       "PN_TA_PROP                0.421967\n",
       "ED_MEDIAN_VISIT_MINS         192.0\n",
       "ED_LEFT_NOT_SEEN_%             1.0\n",
       "ED_VOLUME                      4.0\n",
       "%_SEPSIS_CARE                 71.0\n",
       "%_HCWs_FLU_VAX                92.0\n",
       "2018to2020_PCPI       54195.333333\n",
       "Population_2019           607186.0\n",
       "MEDIAN_AGE_TOT                42.4\n",
       "County_Facilities                4\n",
       "Pop/Hosp                  151796.5"
      ]
     },
     "execution_count": 5,
     "metadata": {},
     "output_type": "execute_result"
    }
   ],
   "source": [
    "targ_hosp.T"
   ]
  },
  {
   "cell_type": "code",
   "execution_count": 6,
   "id": "f4bae66a",
   "metadata": {},
   "outputs": [
    {
     "name": "stdout",
     "output_type": "stream",
     "text": [
      "<class 'pandas.core.frame.DataFrame'>\n",
      "Int64Index: 1 entries, 1410 to 1410\n",
      "Data columns (total 37 columns):\n",
      " #   Column                Non-Null Count  Dtype  \n",
      "---  ------                --------------  -----  \n",
      " 0   Facility_ID           1 non-null      object \n",
      " 1   City                  1 non-null      object \n",
      " 2   State                 1 non-null      object \n",
      " 3   County                1 non-null      object \n",
      " 4   Total_Admissions      1 non-null      int64  \n",
      " 5   ReadmissionRate       1 non-null      float64\n",
      " 6   HAI_1_SIR             1 non-null      float64\n",
      " 7   HAI_2_SIR             1 non-null      float64\n",
      " 8   HAI_5_SIR             1 non-null      float64\n",
      " 9   HAI_6_SIR             1 non-null      float64\n",
      " 10  PSI_3                 1 non-null      float64\n",
      " 11  PSI_6                 1 non-null      float64\n",
      " 12  PSI_8                 1 non-null      float64\n",
      " 13  PSI_9                 1 non-null      float64\n",
      " 14  PSI_10                1 non-null      float64\n",
      " 15  PSI_11                1 non-null      float64\n",
      " 16  PSI_12                1 non-null      float64\n",
      " 17  PSI_13                1 non-null      float64\n",
      " 18  PSI_14                1 non-null      float64\n",
      " 19  PSI_15                1 non-null      float64\n",
      " 20  PSI_90                1 non-null      float64\n",
      " 21  H_Comp_Ov             1 non-null      float64\n",
      " 22  AMI_TA_PROP           1 non-null      float64\n",
      " 23  COPD_TA_PROP          1 non-null      float64\n",
      " 24  HF_TA_PROP            1 non-null      float64\n",
      " 25  HIPKNEE_TA_PROP       1 non-null      float64\n",
      " 26  PN_TA_PROP            1 non-null      float64\n",
      " 27  ED_MEDIAN_VISIT_MINS  1 non-null      float64\n",
      " 28  ED_LEFT_NOT_SEEN_%    1 non-null      float64\n",
      " 29  ED_VOLUME             1 non-null      float64\n",
      " 30  %_SEPSIS_CARE         1 non-null      float64\n",
      " 31  %_HCWs_FLU_VAX        1 non-null      float64\n",
      " 32  2018to2020_PCPI       1 non-null      float64\n",
      " 33  Population_2019       1 non-null      float64\n",
      " 34  MEDIAN_AGE_TOT        1 non-null      float64\n",
      " 35  County_Facilities     1 non-null      int64  \n",
      " 36  Pop/Hosp              1 non-null      float64\n",
      "dtypes: float64(31), int64(2), object(4)\n",
      "memory usage: 412.0+ bytes\n"
     ]
    }
   ],
   "source": [
    "targ_hosp.info()"
   ]
  },
  {
   "cell_type": "markdown",
   "id": "5bd6956e",
   "metadata": {},
   "source": [
    "### Refit Model on All Available Data (Excluding Target Hospital)"
   ]
  },
  {
   "cell_type": "markdown",
   "id": "52dbdd5f",
   "metadata": {},
   "source": [
    "We want to train a model to predict our client hospital's readmission rate based on data from all of the other hospitals."
   ]
  },
  {
   "cell_type": "code",
   "execution_count": 7,
   "id": "f6403e24",
   "metadata": {},
   "outputs": [],
   "source": [
    "X = hosp_data.loc[hosp_data.Facility_ID != \"310041\", model.X_columns]\n",
    "y = hosp_data.loc[hosp_data.Facility_ID != \"310041\", 'ReadmissionRate']"
   ]
  },
  {
   "cell_type": "code",
   "execution_count": 8,
   "id": "3a78fbd5",
   "metadata": {},
   "outputs": [
    {
     "data": {
      "text/plain": [
       "(2472, 2472)"
      ]
     },
     "execution_count": 8,
     "metadata": {},
     "output_type": "execute_result"
    }
   ],
   "source": [
    "len(X), len(y)"
   ]
  },
  {
   "cell_type": "code",
   "execution_count": 9,
   "id": "60a02742",
   "metadata": {},
   "outputs": [
    {
     "data": {
      "text/plain": [
       "Pipeline(steps=[('simpleimputer', SimpleImputer()), ('standardscaler', None),\n",
       "                ('histgradientboostingregressor',\n",
       "                 HistGradientBoostingRegressor(learning_rate=0.06, max_depth=5,\n",
       "                                               max_iter=40, random_state=47))])"
      ]
     },
     "execution_count": 9,
     "metadata": {},
     "output_type": "execute_result"
    }
   ],
   "source": [
    "model.fit(X, y)"
   ]
  },
  {
   "cell_type": "code",
   "execution_count": 10,
   "id": "a9544980",
   "metadata": {},
   "outputs": [],
   "source": [
    "cv_results = cross_validate(model, X, y, scoring='neg_mean_absolute_error', cv=5, n_jobs=-1)"
   ]
  },
  {
   "cell_type": "code",
   "execution_count": 11,
   "id": "05e509b9",
   "metadata": {},
   "outputs": [
    {
     "data": {
      "text/plain": [
       "array([-0.56345455, -0.6092104 , -0.60614953, -0.54585004, -0.53456143])"
      ]
     },
     "execution_count": 11,
     "metadata": {},
     "output_type": "execute_result"
    }
   ],
   "source": [
    "cv_results['test_score']"
   ]
  },
  {
   "cell_type": "code",
   "execution_count": 12,
   "id": "3658b8ae",
   "metadata": {},
   "outputs": [
    {
     "data": {
      "text/plain": [
       "(0.5718451885282267, 0.030689333455469776)"
      ]
     },
     "execution_count": 12,
     "metadata": {},
     "output_type": "execute_result"
    }
   ],
   "source": [
    "mae_mean, mae_std = np.mean(-1 * cv_results['test_score']), np.std(-1 * cv_results['test_score'])\n",
    "mae_mean, mae_std"
   ]
  },
  {
   "cell_type": "markdown",
   "id": "85a9ff3f",
   "metadata": {},
   "source": [
    "### Calculate Expected Client Hospital Readmission Rate From the Model"
   ]
  },
  {
   "cell_type": "code",
   "execution_count": 13,
   "id": "63796d52",
   "metadata": {},
   "outputs": [],
   "source": [
    "X_client = hosp_data.loc[hosp_data.Facility_ID == \"310041\", model.X_columns]\n",
    "y_client = hosp_data.loc[hosp_data.Facility_ID == \"310041\", 'ReadmissionRate']"
   ]
  },
  {
   "cell_type": "code",
   "execution_count": 14,
   "id": "3de3747d",
   "metadata": {},
   "outputs": [],
   "source": [
    "client_pred = model.predict(X_client).item()"
   ]
  },
  {
   "cell_type": "code",
   "execution_count": 15,
   "id": "0cb8a5b8",
   "metadata": {},
   "outputs": [],
   "source": [
    "y_client = y_client.values.item()"
   ]
  },
  {
   "cell_type": "code",
   "execution_count": 16,
   "id": "0ee9ede9",
   "metadata": {},
   "outputs": [
    {
     "name": "stdout",
     "output_type": "stream",
     "text": [
      "Client modelled Readmission Rate is 15.57, actual Readmission Rate is 16.80.\n",
      "Even with the expected mean absolute error of 0.57, this suggests there is room for improvement in next cycle just by chance.\n"
     ]
    }
   ],
   "source": [
    "print(f'Client modelled Readmission Rate is {client_pred:.2f}, actual Readmission Rate is {y_client:.2f}.')\n",
    "print(f'Even with the expected mean absolute error of {mae_mean:.2f}, this suggests there is room for improvement in next cycle just by chance.')"
   ]
  },
  {
   "cell_type": "markdown",
   "id": "0ed8d309",
   "metadata": {},
   "source": [
    "### Client Hospital in Context"
   ]
  },
  {
   "cell_type": "markdown",
   "id": "f062690b",
   "metadata": {},
   "source": [
    "Features that came up as paritcularly important in Random Forest Model (performed nearly as well as the HGB model):\n",
    "* HIPKNEE_TA_PROP (-): Proportion of initial admissions with a (non-mutually exclusive) reason as hip/knee replacement surgery\n",
    "* AMI_TA_PROP (-): Proportion of initial admissions with a (non-mutually exclusive) reason as acute myocardial infarction\n",
    "* PSI_11 (+): Postoperative respiratory failure score (higher = relatively more frequent than expected for a similar hospital according to CMS)"
   ]
  },
  {
   "cell_type": "code",
   "execution_count": 17,
   "id": "3477609e",
   "metadata": {},
   "outputs": [],
   "source": [
    "#Looking at client hospital in context of sample population for these features\n",
    "def plot_compare(feat_name, description, State=None, figsize=(10, 5)):\n",
    "    \"\"\"Graphically compare distributions of features.\n",
    "    \n",
    "    Plot histogram of values for all resorts and reference line to mark\n",
    "    Client Hospital's position.\n",
    "    \n",
    "    Arguments:\n",
    "    feat_name - the feature column name in the data\n",
    "    description - text description of the feature\n",
    "    state - select a specific state (None for all states)\n",
    "    figsize - (optional) figure size\n",
    "    \"\"\"\n",
    "    \n",
    "    plt.subplots(figsize=figsize)\n",
    "    # quirk that hist sometimes objects to NaNs, sometimes doesn't\n",
    "    # filtering only for finite values tidies this up\n",
    "    if State is None:\n",
    "        hosp_x = hosp_data[feat_name]\n",
    "    else:\n",
    "        hosp_x = hosp_data.loc[hosp_data.State == State, feat_name]\n",
    "    hosp_x = hosp_x[np.isfinite(hosp_x)]\n",
    "    plt.hist(hosp_x, bins=30)\n",
    "    plt.axvline(x=targ_hosp[feat_name].values, c='r', ls='--', alpha=0.8, label='Client Hospital')\n",
    "    plt.xlabel(description)\n",
    "    plt.ylabel('frequency')\n",
    "    plt.title(description + ' distribution for comparable hospitals in data set')\n",
    "    plt.legend()"
   ]
  },
  {
   "cell_type": "code",
   "execution_count": 20,
   "id": "20ea2dda",
   "metadata": {},
   "outputs": [
    {
     "data": {
      "image/png": "[encoded data removed]",
      "text/plain": [
       "<Figure size 720x360 with 1 Axes>"
      ]
     },
     "metadata": {
      "needs_background": "light"
     },
     "output_type": "display_data"
    }
   ],
   "source": [
    "plot_compare('HIPKNEE_TA_PROP', 'Proportion of Initial Admissions With HIPKNEE Replacement as a Reason for Admission')"
   ]
  },
  {
   "cell_type": "code",
   "execution_count": 21,
   "id": "cb271e0b",
   "metadata": {},
   "outputs": [
    {
     "data": {
      "image/png": "[encoded data removed]",
      "text/plain": [
       "<Figure size 720x360 with 1 Axes>"
      ]
     },
     "metadata": {
      "needs_background": "light"
     },
     "output_type": "display_data"
    }
   ],
   "source": [
    "plot_compare('AMI_TA_PROP', 'Proportion of Initial Admissions With AMI as a Reason for Admission')"
   ]
  },
  {
   "cell_type": "code",
   "execution_count": 22,
   "id": "e25759c7",
   "metadata": {},
   "outputs": [
    {
     "data": {
      "image/png": "[encoded data removed]",
      "text/plain": [
       "<Figure size 720x360 with 1 Axes>"
      ]
     },
     "metadata": {
      "needs_background": "light"
     },
     "output_type": "display_data"
    }
   ],
   "source": [
    "plot_compare('PSI_11', 'Postoperative Respiratory Failure Score -Higher is Greater Risk')"
   ]
  },
  {
   "cell_type": "markdown",
   "id": "4f17c5cc",
   "metadata": {},
   "source": [
    "Perhaps most notably, our client hospital scored very poorly on normalized postoperative respiratory score (PSI-11) relative to the population. Also, our client hospital was toward the low end of the distribution for proportion of initial admissions with a (non-mutually exclusive) reason as hip/knee replacement surgery (HIP_KNEE_TA_PROP)."
   ]
  },
  {
   "cell_type": "markdown",
   "id": "2f833e5b",
   "metadata": {},
   "source": [
    "### Modeling Scenarios"
   ]
  },
  {
   "cell_type": "markdown",
   "id": "9388c2f8",
   "metadata": {},
   "source": [
    "It would be of interest to know if improvement on normalized postoperative respiratory score (PSI-11), to the population median, would improve the best model-based Readmission Rate for our client hospital. There is the possibility that increased vigilance, training and new protocols could lead to improvement in this metric. \n",
    "\n",
    "Also of interest, but perhaps less actionable, is knowing whether an increase in the proportion of initial admissions for hip/knee replacement surgery would yield an improved Readmission Rate. "
   ]
  },
  {
   "cell_type": "code",
   "execution_count": 23,
   "id": "04c378a6",
   "metadata": {},
   "outputs": [],
   "source": [
    "#In this function, we copy the Target Hospital data into a new data frame\n",
    "#And then for each feature, and each of its deltas (changes from the original),\n",
    "#we create the modified scenario dataframe (th2) and make a readmission rate prediction\n",
    "#for it. The difference between the scenario's prediction and the current\n",
    "#prediction is then calculated and returned.\n",
    "def predict_increase(features, deltas):\n",
    "    \"\"\"Increase in modelled readmission rate by applying delta to feature.\n",
    "    \n",
    "    Arguments:\n",
    "    features - list, names of the features in the hosp_data dataframe to change\n",
    "    deltas - list, the amounts by which to increase the values of the features\n",
    "    \n",
    "    Outputs:\n",
    "    Amount of increase in the predicted ticket price\n",
    "    \"\"\"\n",
    "    \n",
    "    th2 = X_client.copy()\n",
    "    for f, d in zip(features, deltas):\n",
    "        th2[features] += deltas\n",
    "    return model.predict(th2).item() - model.predict(X_client).item()"
   ]
  },
  {
   "cell_type": "markdown",
   "id": "f7559b0b",
   "metadata": {},
   "source": [
    "#### For Impactful Features Where Target Hospital 'Underperforms', Calculate Delta to Get to Hospital Population Means"
   ]
  },
  {
   "cell_type": "code",
   "execution_count": 28,
   "id": "582cd2c1",
   "metadata": {},
   "outputs": [
    {
     "data": {
      "text/plain": [
       "-4.091966999999999"
      ]
     },
     "execution_count": 28,
     "metadata": {},
     "output_type": "execute_result"
    }
   ],
   "source": [
    "desired_delta_1 = hosp_data[\"PSI_11\"].median() - targ_hosp.iloc[0,15]\n",
    "desired_delta_1"
   ]
  },
  {
   "cell_type": "code",
   "execution_count": 29,
   "id": "e694ea71",
   "metadata": {},
   "outputs": [
    {
     "data": {
      "text/plain": [
       "-0.1538909287139239"
      ]
     },
     "execution_count": 29,
     "metadata": {},
     "output_type": "execute_result"
    }
   ],
   "source": [
    "desired_delta_2 = hosp_data[\"HIPKNEE_TA_PROP\"].median() - targ_hosp.iloc[0,26]\n",
    "desired_delta_2"
   ]
  },
  {
   "cell_type": "markdown",
   "id": "dceaf159",
   "metadata": {},
   "source": [
    "### Scenario 1: Reducing Postoperative Respiratory Failure Score to that of Hospital Population Median "
   ]
  },
  {
   "cell_type": "code",
   "execution_count": 30,
   "id": "ae6b9762",
   "metadata": {},
   "outputs": [
    {
     "data": {
      "text/plain": [
       "0.0"
      ]
     },
     "execution_count": 30,
     "metadata": {},
     "output_type": "execute_result"
    }
   ],
   "source": [
    "RR_increase = predict_increase(['PSI_11'], [desired_delta_1])\n",
    "RR_increase"
   ]
  },
  {
   "cell_type": "code",
   "execution_count": 31,
   "id": "0840af27",
   "metadata": {},
   "outputs": [
    {
     "name": "stdout",
     "output_type": "stream",
     "text": [
      "This scenario reduces model-predicted Readmission Rate by 0.00%\n"
     ]
    }
   ],
   "source": [
    "print(f'This scenario reduces model-predicted Readmission Rate by {RR_increase:.2f}%')"
   ]
  },
  {
   "cell_type": "markdown",
   "id": "757f81c0",
   "metadata": {},
   "source": [
    "### Scenario 2: Increasing the Proportion of Inpatient Hip-Knee Replacement Cases to Hospital Population Median"
   ]
  },
  {
   "cell_type": "code",
   "execution_count": 32,
   "id": "a8aadf30",
   "metadata": {},
   "outputs": [
    {
     "data": {
      "text/plain": [
       "0.11198362279551866"
      ]
     },
     "execution_count": 32,
     "metadata": {},
     "output_type": "execute_result"
    }
   ],
   "source": [
    "RR_increase = predict_increase(['HIPKNEE_TA_PROP'], [desired_delta_2])\n",
    "RR_increase"
   ]
  },
  {
   "cell_type": "code",
   "execution_count": 33,
   "id": "673ee337",
   "metadata": {},
   "outputs": [
    {
     "name": "stdout",
     "output_type": "stream",
     "text": [
      "This scenario reduces model-predicted Readmission Rate by 0.11%\n"
     ]
    }
   ],
   "source": [
    "print(f'This scenario reduces model-predicted Readmission Rate by {RR_increase:.2f}%')"
   ]
  },
  {
   "cell_type": "markdown",
   "id": "fe3dc102",
   "metadata": {},
   "source": [
    "## Business Case Conclusions"
   ]
  },
  {
   "cell_type": "markdown",
   "id": "22dad4ec",
   "metadata": {},
   "source": [
    "The good news for our client is that the best model predicts a Readmission Rate of 15.57%, while their actual Readmission Rate is 16.80. Even with the expected mean absolute error of 0.57, this suggests there is room for substantial improvement toward the 1% goal in the next cycle simply via regression to the mean.\n",
    "\n",
    "Beyond that, we found that reducing postoperative respiratory failure score to the hospital population median is predicted to have little or no effect on readmission rate. So, while improving in this capacity may improve patient outcomes these improvements are not likely manifest in lowered Readmission Rate, per se. \n",
    "\n",
    "Increasing the proportion of admissions for hip-knee replacement in the overall case mix is predicted to improve Readmission Rate by approximately 10% of the goal to stay in good standing with CMS. While this may seem modest, coupled to the expected gain simply with mean reversion a small boost here could well help get to the 1% threshold. Perhaps modestly expanding staff and facilities for this procedure type could lure some patients in from other competing facilities in the area. Also, given that our client hospital is toward the low end of the distribution for proportion of this type of procedure, and we now have evidence that it is an impactful determinent of Readmission Rate, they can provide this context to CMS in an appeal if the 1% goal is not acheived within the next review cycle. \n",
    "\n"
   ]
  },
  {
   "cell_type": "code",
   "execution_count": null,
   "id": "972084a6",
   "metadata": {},
   "outputs": [],
   "source": []
  }
 ],
 "metadata": {
  "kernelspec": {
   "display_name": "Python 3",
   "language": "python",
   "name": "python3"
  },
  "language_info": {
   "codemirror_mode": {
    "name": "ipython",
    "version": 3
   },
   "file_extension": ".py",
   "mimetype": "text/x-python",
   "name": "python",
   "nbconvert_exporter": "python",
   "pygments_lexer": "ipython3",
   "version": "3.8.8"
  }
 },
 "nbformat": 4,
 "nbformat_minor": 5
}
