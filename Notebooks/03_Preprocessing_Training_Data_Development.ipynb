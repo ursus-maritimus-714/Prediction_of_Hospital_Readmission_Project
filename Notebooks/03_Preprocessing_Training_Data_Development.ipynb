{
 "cells": [
  {
   "cell_type": "markdown",
   "id": "7ee4b38c",
   "metadata": {},
   "source": [
    "### Imports"
   ]
  },
  {
   "cell_type": "code",
   "execution_count": 1,
   "id": "b3fd9c27",
   "metadata": {},
   "outputs": [],
   "source": [
    "import pandas as pd\n",
    "import numpy as np\n",
    "import os\n",
    "import pickle\n",
    "import matplotlib.pyplot as plt\n",
    "import seaborn as sns\n",
    "from sklearn import __version__ as sklearn_version\n",
    "from sklearn.preprocessing import scale\n",
    "from sklearn.model_selection import train_test_split, cross_validate, GridSearchCV, learning_curve\n",
    "from sklearn.preprocessing import StandardScaler, MinMaxScaler\n",
    "from sklearn.dummy import DummyRegressor\n",
    "from sklearn.linear_model import LinearRegression\n",
    "from sklearn.metrics import r2_score, mean_squared_error, mean_absolute_error\n",
    "from sklearn.pipeline import make_pipeline\n",
    "from sklearn.impute import SimpleImputer\n",
    "from sklearn.feature_selection import SelectKBest, f_regression\n",
    "import datetime"
   ]
  },
  {
   "cell_type": "code",
   "execution_count": 41,
   "id": "3c18629e",
   "metadata": {},
   "outputs": [],
   "source": [
    "from library.sb_utils import save_file"
   ]
  },
  {
   "cell_type": "markdown",
   "id": "3f1312d5",
   "metadata": {},
   "source": [
    "### Load Data"
   ]
  },
  {
   "cell_type": "code",
   "execution_count": 6,
   "id": "5710a5ec",
   "metadata": {},
   "outputs": [
    {
     "data": {
      "text/html": [
       "<div>\n",
       "<style scoped>\n",
       "    .dataframe tbody tr th:only-of-type {\n",
       "        vertical-align: middle;\n",
       "    }\n",
       "\n",
       "    .dataframe tbody tr th {\n",
       "        vertical-align: top;\n",
       "    }\n",
       "\n",
       "    .dataframe thead th {\n",
       "        text-align: right;\n",
       "    }\n",
       "</style>\n",
       "<table border=\"1\" class=\"dataframe\">\n",
       "  <thead>\n",
       "    <tr style=\"text-align: right;\">\n",
       "      <th></th>\n",
       "      <th>Facility_ID</th>\n",
       "      <th>City</th>\n",
       "      <th>State</th>\n",
       "      <th>County</th>\n",
       "      <th>Total_Admissions</th>\n",
       "      <th>ReadmissionRate</th>\n",
       "      <th>HAI_1_SIR</th>\n",
       "      <th>HAI_2_SIR</th>\n",
       "      <th>HAI_5_SIR</th>\n",
       "      <th>HAI_6_SIR</th>\n",
       "      <th>...</th>\n",
       "      <th>ED_MEDIAN_VISIT_MINS</th>\n",
       "      <th>ED_LEFT_NOT_SEEN_%</th>\n",
       "      <th>ED_VOLUME</th>\n",
       "      <th>%_SEPSIS_CARE</th>\n",
       "      <th>%_HCWs_FLU_VAX</th>\n",
       "      <th>2018to2020_PCPI</th>\n",
       "      <th>Population_2019</th>\n",
       "      <th>MEDIAN_AGE_TOT</th>\n",
       "      <th>County_Facilities</th>\n",
       "      <th>Pop/Hosp</th>\n",
       "    </tr>\n",
       "  </thead>\n",
       "  <tbody>\n",
       "    <tr>\n",
       "      <th>0</th>\n",
       "      <td>010001</td>\n",
       "      <td>DOTHAN</td>\n",
       "      <td>AL</td>\n",
       "      <td>Houston</td>\n",
       "      <td>1805</td>\n",
       "      <td>15.5</td>\n",
       "      <td>0.555</td>\n",
       "      <td>0.289</td>\n",
       "      <td>0.871</td>\n",
       "      <td>0.604</td>\n",
       "      <td>...</td>\n",
       "      <td>168.0</td>\n",
       "      <td>3.0</td>\n",
       "      <td>3.0</td>\n",
       "      <td>60.0</td>\n",
       "      <td>99.0</td>\n",
       "      <td>44661.000000</td>\n",
       "      <td>105882.0</td>\n",
       "      <td>40.0</td>\n",
       "      <td>2</td>\n",
       "      <td>52941.000</td>\n",
       "    </tr>\n",
       "    <tr>\n",
       "      <th>1</th>\n",
       "      <td>010005</td>\n",
       "      <td>BOAZ</td>\n",
       "      <td>AL</td>\n",
       "      <td>Marshall</td>\n",
       "      <td>764</td>\n",
       "      <td>14.7</td>\n",
       "      <td>1.650</td>\n",
       "      <td>1.055</td>\n",
       "      <td>2.780</td>\n",
       "      <td>0.601</td>\n",
       "      <td>...</td>\n",
       "      <td>139.0</td>\n",
       "      <td>2.0</td>\n",
       "      <td>4.0</td>\n",
       "      <td>60.0</td>\n",
       "      <td>93.0</td>\n",
       "      <td>37982.666667</td>\n",
       "      <td>96774.0</td>\n",
       "      <td>38.9</td>\n",
       "      <td>1</td>\n",
       "      <td>96774.000</td>\n",
       "    </tr>\n",
       "    <tr>\n",
       "      <th>2</th>\n",
       "      <td>010006</td>\n",
       "      <td>FLORENCE</td>\n",
       "      <td>AL</td>\n",
       "      <td>Lauderdale</td>\n",
       "      <td>1563</td>\n",
       "      <td>15.7</td>\n",
       "      <td>0.987</td>\n",
       "      <td>0.442</td>\n",
       "      <td>1.232</td>\n",
       "      <td>0.212</td>\n",
       "      <td>...</td>\n",
       "      <td>182.0</td>\n",
       "      <td>1.0</td>\n",
       "      <td>3.0</td>\n",
       "      <td>32.0</td>\n",
       "      <td>82.0</td>\n",
       "      <td>38525.333333</td>\n",
       "      <td>92729.0</td>\n",
       "      <td>41.6</td>\n",
       "      <td>1</td>\n",
       "      <td>92729.000</td>\n",
       "    </tr>\n",
       "    <tr>\n",
       "      <th>3</th>\n",
       "      <td>010011</td>\n",
       "      <td>BIRMINGHAM</td>\n",
       "      <td>AL</td>\n",
       "      <td>Jefferson</td>\n",
       "      <td>918</td>\n",
       "      <td>16.3</td>\n",
       "      <td>0.424</td>\n",
       "      <td>0.993</td>\n",
       "      <td>0.802</td>\n",
       "      <td>0.359</td>\n",
       "      <td>...</td>\n",
       "      <td>174.0</td>\n",
       "      <td>3.0</td>\n",
       "      <td>3.0</td>\n",
       "      <td>30.0</td>\n",
       "      <td>76.0</td>\n",
       "      <td>56600.000000</td>\n",
       "      <td>658573.0</td>\n",
       "      <td>37.9</td>\n",
       "      <td>8</td>\n",
       "      <td>82321.625</td>\n",
       "    </tr>\n",
       "    <tr>\n",
       "      <th>4</th>\n",
       "      <td>010012</td>\n",
       "      <td>FORT PAYNE</td>\n",
       "      <td>AL</td>\n",
       "      <td>DeKalb</td>\n",
       "      <td>265</td>\n",
       "      <td>15.6</td>\n",
       "      <td>NaN</td>\n",
       "      <td>0.000</td>\n",
       "      <td>NaN</td>\n",
       "      <td>0.493</td>\n",
       "      <td>...</td>\n",
       "      <td>170.0</td>\n",
       "      <td>3.0</td>\n",
       "      <td>2.0</td>\n",
       "      <td>80.0</td>\n",
       "      <td>82.0</td>\n",
       "      <td>33574.333333</td>\n",
       "      <td>71513.0</td>\n",
       "      <td>40.1</td>\n",
       "      <td>1</td>\n",
       "      <td>71513.000</td>\n",
       "    </tr>\n",
       "  </tbody>\n",
       "</table>\n",
       "<p>5 rows × 37 columns</p>\n",
       "</div>"
      ],
      "text/plain": [
       "  Facility_ID        City State      County  Total_Admissions  \\\n",
       "0      010001      DOTHAN    AL     Houston              1805   \n",
       "1      010005        BOAZ    AL    Marshall               764   \n",
       "2      010006    FLORENCE    AL  Lauderdale              1563   \n",
       "3      010011  BIRMINGHAM    AL   Jefferson               918   \n",
       "4      010012  FORT PAYNE    AL      DeKalb               265   \n",
       "\n",
       "   ReadmissionRate  HAI_1_SIR  HAI_2_SIR  HAI_5_SIR  HAI_6_SIR  ...  \\\n",
       "0             15.5      0.555      0.289      0.871      0.604  ...   \n",
       "1             14.7      1.650      1.055      2.780      0.601  ...   \n",
       "2             15.7      0.987      0.442      1.232      0.212  ...   \n",
       "3             16.3      0.424      0.993      0.802      0.359  ...   \n",
       "4             15.6        NaN      0.000        NaN      0.493  ...   \n",
       "\n",
       "   ED_MEDIAN_VISIT_MINS  ED_LEFT_NOT_SEEN_%  ED_VOLUME  %_SEPSIS_CARE  \\\n",
       "0                 168.0                 3.0        3.0           60.0   \n",
       "1                 139.0                 2.0        4.0           60.0   \n",
       "2                 182.0                 1.0        3.0           32.0   \n",
       "3                 174.0                 3.0        3.0           30.0   \n",
       "4                 170.0                 3.0        2.0           80.0   \n",
       "\n",
       "   %_HCWs_FLU_VAX  2018to2020_PCPI  Population_2019  MEDIAN_AGE_TOT  \\\n",
       "0            99.0     44661.000000         105882.0            40.0   \n",
       "1            93.0     37982.666667          96774.0            38.9   \n",
       "2            82.0     38525.333333          92729.0            41.6   \n",
       "3            76.0     56600.000000         658573.0            37.9   \n",
       "4            82.0     33574.333333          71513.0            40.1   \n",
       "\n",
       "   County_Facilities   Pop/Hosp  \n",
       "0                  2  52941.000  \n",
       "1                  1  96774.000  \n",
       "2                  1  92729.000  \n",
       "3                  8  82321.625  \n",
       "4                  1  71513.000  \n",
       "\n",
       "[5 rows x 37 columns]"
      ]
     },
     "execution_count": 6,
     "metadata": {},
     "output_type": "execute_result"
    }
   ],
   "source": [
    "hosp_data = pd.read_csv('../data/main_df_post2_200.csv')\n",
    "hosp_data.head()"
   ]
  },
  {
   "cell_type": "markdown",
   "id": "d80246b7",
   "metadata": {},
   "source": [
    "### Extract Target Data"
   ]
  },
  {
   "cell_type": "code",
   "execution_count": 7,
   "id": "cee49959",
   "metadata": {},
   "outputs": [],
   "source": [
    "#Our target hospital, which we will now remove for use later. \n",
    "targ_hosp = hosp_data[hosp_data.Facility_ID == '310041']"
   ]
  },
  {
   "cell_type": "code",
   "execution_count": 8,
   "id": "98bb4b34",
   "metadata": {},
   "outputs": [
    {
     "data": {
      "text/plain": [
       "(2472, 37)"
      ]
     },
     "execution_count": 8,
     "metadata": {},
     "output_type": "execute_result"
    }
   ],
   "source": [
    "#Remove targ_hosp from main dataframe for testing and training\n",
    "hosp_data = hosp_data[hosp_data.Facility_ID !='310041']\n",
    "hosp_data.shape"
   ]
  },
  {
   "cell_type": "markdown",
   "id": "cd5c9da9",
   "metadata": {},
   "source": [
    "### Train Test Split"
   ]
  },
  {
   "cell_type": "code",
   "execution_count": 9,
   "id": "4765c292",
   "metadata": {},
   "outputs": [
    {
     "data": {
      "text/plain": [
       "(1730.3999999999999, 741.6)"
      ]
     },
     "execution_count": 9,
     "metadata": {},
     "output_type": "execute_result"
    }
   ],
   "source": [
    "len(hosp_data) * .7, len(hosp_data) * .3"
   ]
  },
  {
   "cell_type": "code",
   "execution_count": 10,
   "id": "bae3b37b",
   "metadata": {},
   "outputs": [],
   "source": [
    "X_train, X_test, y_train, y_test = train_test_split(hosp_data.drop(columns='ReadmissionRate'), \n",
    "                                                    hosp_data.ReadmissionRate, test_size=0.3, \n",
    "                                                    random_state=47)"
   ]
  },
  {
   "cell_type": "code",
   "execution_count": 11,
   "id": "1c7c49fe",
   "metadata": {},
   "outputs": [
    {
     "data": {
      "text/plain": [
       "((1730,), (742,))"
      ]
     },
     "execution_count": 11,
     "metadata": {},
     "output_type": "execute_result"
    }
   ],
   "source": [
    "y_train.shape, y_test.shape"
   ]
  },
  {
   "cell_type": "code",
   "execution_count": 68,
   "id": "0e695b01",
   "metadata": {},
   "outputs": [
    {
     "data": {
      "text/plain": [
       "2332    15.0\n",
       "2144    15.4\n",
       "1895    16.0\n",
       "2432    15.6\n",
       "436     16.1\n",
       "        ... \n",
       "775     17.5\n",
       "691     16.2\n",
       "2376    16.0\n",
       "1927    14.6\n",
       "1159    15.5\n",
       "Name: ReadmissionRate, Length: 1730, dtype: float64"
      ]
     },
     "execution_count": 68,
     "metadata": {},
     "output_type": "execute_result"
    }
   ],
   "source": [
    "y_train"
   ]
  },
  {
   "cell_type": "code",
   "execution_count": 12,
   "id": "be74717e",
   "metadata": {},
   "outputs": [
    {
     "data": {
      "text/plain": [
       "((1730, 32), (742, 32))"
      ]
     },
     "execution_count": 12,
     "metadata": {},
     "output_type": "execute_result"
    }
   ],
   "source": [
    "#Save the 'Facility_ID', 'City', 'State', and 'County' columns from the train/test data into names_train and names_test\n",
    "#Then drop those columns from `X_train` and `X_test`. Use 'inplace=True'\n",
    "names_list = ['Facility_ID','City','State','County']\n",
    "names_train = X_train[names_list]\n",
    "names_test = X_test[names_list]\n",
    "X_train.drop(columns=names_list, inplace=True)\n",
    "X_test.drop(columns=names_list, inplace=True)\n",
    "X_train.shape, X_test.shape"
   ]
  },
  {
   "cell_type": "markdown",
   "id": "b2022d2a",
   "metadata": {},
   "source": [
    "## Pre-Modeling: Mean Readmission Rate as Predictor"
   ]
  },
  {
   "cell_type": "code",
   "execution_count": 13,
   "id": "9a040ec8",
   "metadata": {},
   "outputs": [
    {
     "data": {
      "text/plain": [
       "15.519248554913288"
      ]
     },
     "execution_count": 13,
     "metadata": {},
     "output_type": "execute_result"
    }
   ],
   "source": [
    "#Target feature (ReadmissionRate) Training set mean\n",
    "train_mean = y_train.mean()\n",
    "train_mean"
   ]
  },
  {
   "cell_type": "code",
   "execution_count": 14,
   "id": "96178b59",
   "metadata": {},
   "outputs": [
    {
     "data": {
      "text/plain": [
       "array([[15.51924855]])"
      ]
     },
     "execution_count": 14,
     "metadata": {},
     "output_type": "execute_result"
    }
   ],
   "source": [
    "#Fitting dummy regressor to training data (from sklearn). Outputs the training set mean.\n",
    "dumb_reg = DummyRegressor(strategy='mean')\n",
    "dumb_reg.fit(X_train, y_train)\n",
    "dumb_reg.constant_"
   ]
  },
  {
   "cell_type": "code",
   "execution_count": 15,
   "id": "7289d268",
   "metadata": {},
   "outputs": [
    {
     "data": {
      "text/plain": [
       "array([15.51924855, 15.51924855, 15.51924855, 15.51924855, 15.51924855])"
      ]
     },
     "execution_count": 15,
     "metadata": {},
     "output_type": "execute_result"
    }
   ],
   "source": [
    "y_tr_pred = dumb_reg.predict(X_train)\n",
    "y_tr_pred[:5]"
   ]
  },
  {
   "cell_type": "code",
   "execution_count": 16,
   "id": "8c95a6f7",
   "metadata": {},
   "outputs": [],
   "source": [
    "y_te_pred = train_mean * np.ones(len(y_test))"
   ]
  },
  {
   "cell_type": "markdown",
   "id": "2f9ce30e",
   "metadata": {},
   "source": [
    "#### R-Squared (COD)"
   ]
  },
  {
   "cell_type": "code",
   "execution_count": 17,
   "id": "da41460c",
   "metadata": {},
   "outputs": [
    {
     "data": {
      "text/plain": [
       "(0.0, -0.0006661592133934136)"
      ]
     },
     "execution_count": 17,
     "metadata": {},
     "output_type": "execute_result"
    }
   ],
   "source": [
    "#Compute R-squared for target mean on training set (will be zero, since we are calculating mean on training set), and on test set (should be slightl different from zero)\n",
    "r2_score(y_train, y_tr_pred), r2_score(y_test, y_te_pred)"
   ]
  },
  {
   "cell_type": "markdown",
   "id": "d0e98a0c",
   "metadata": {},
   "source": [
    "proportion of the variance for a dependent variable that's explained by our features. It's close to zero for the dummy model as expected."
   ]
  },
  {
   "cell_type": "markdown",
   "id": "b050ad59",
   "metadata": {},
   "source": [
    "#### Mean Absolute Error (MAE)"
   ]
  },
  {
   "cell_type": "code",
   "execution_count": 48,
   "id": "7ff7270b",
   "metadata": {},
   "outputs": [
    {
     "data": {
      "text/plain": [
       "(0.6194189582010761, 0.6203731517691593)"
      ]
     },
     "execution_count": 48,
     "metadata": {},
     "output_type": "execute_result"
    }
   ],
   "source": [
    "MAEs_dummy = mean_absolute_error(y_train, y_tr_pred), mean_absolute_error(y_test, y_te_pred)\n",
    "MAEs_dummy"
   ]
  },
  {
   "cell_type": "markdown",
   "id": "74cf89b8",
   "metadata": {},
   "source": [
    "On average, we might expect to be off by around .62% on both training and test data if you guessed Readmission Rate (RR) based simply on an average of known values."
   ]
  },
  {
   "cell_type": "markdown",
   "id": "22fc037f",
   "metadata": {},
   "source": [
    "#### Mean Squared Error (MSE)"
   ]
  },
  {
   "cell_type": "code",
   "execution_count": 88,
   "id": "5599277e",
   "metadata": {},
   "outputs": [
    {
     "data": {
      "text/plain": [
       "(0.6810572387984898, 0.6999979159932779)"
      ]
     },
     "execution_count": 88,
     "metadata": {},
     "output_type": "execute_result"
    }
   ],
   "source": [
    "#Calculate the Mean Squared Error (average of the square of the errors)\n",
    "MSEs_dummy = mean_squared_error(y_train, y_tr_pred), mean_squared_error(y_test, y_te_pred)\n",
    "MSEs_dummy"
   ]
  },
  {
   "cell_type": "markdown",
   "id": "8ed73559",
   "metadata": {},
   "source": [
    "#### Root Mean Squared Error (RMSE)"
   ]
  },
  {
   "cell_type": "code",
   "execution_count": 89,
   "id": "7b48082b",
   "metadata": {},
   "outputs": [
    {
     "data": {
      "text/plain": [
       "(0.8252619213307311, 0.8366587811009204)"
      ]
     },
     "execution_count": 89,
     "metadata": {},
     "output_type": "execute_result"
    }
   ],
   "source": [
    "RMSEs_dummy = np.sqrt(mean_squared_error(y_train, y_tr_pred)), np.sqrt(mean_squared_error(y_test, y_te_pred))\n",
    "RMSEs_dummy"
   ]
  },
  {
   "cell_type": "markdown",
   "id": "bf8d8fcd",
   "metadata": {},
   "source": [
    "Now will build a pipeline to construct a Linear Model, which will serve as a comparison point for machine learning model(s) to be constructed subsequently ('Modeling' stage. In doing so, will discover what the optimal missing value imputation (mean vs mdian) and scaling (standard vs none) strategies are. However, please note tat these scaling and imputation decisions will be made separately as part of the pipeline for each machine learning method explored in the 'Modeling' stage."
   ]
  },
  {
   "cell_type": "markdown",
   "id": "ed181041",
   "metadata": {},
   "source": [
    "## Linear Model"
   ]
  },
  {
   "cell_type": "code",
   "execution_count": 26,
   "id": "f6b8afad",
   "metadata": {},
   "outputs": [],
   "source": [
    "lr_pipe = make_pipeline(\n",
    "    SimpleImputer(strategy='median'), \n",
    "    StandardScaler(),\n",
    "    SelectKBest(f_regression),\n",
    "    LinearRegression()\n",
    ")"
   ]
  },
  {
   "cell_type": "code",
   "execution_count": 27,
   "id": "e8b8d620",
   "metadata": {},
   "outputs": [
    {
     "data": {
      "text/plain": [
       "dict_keys(['memory', 'steps', 'verbose', 'simpleimputer', 'standardscaler', 'selectkbest', 'linearregression', 'simpleimputer__add_indicator', 'simpleimputer__copy', 'simpleimputer__fill_value', 'simpleimputer__missing_values', 'simpleimputer__strategy', 'simpleimputer__verbose', 'standardscaler__copy', 'standardscaler__with_mean', 'standardscaler__with_std', 'selectkbest__k', 'selectkbest__score_func', 'linearregression__copy_X', 'linearregression__fit_intercept', 'linearregression__n_jobs', 'linearregression__normalize', 'linearregression__positive'])"
      ]
     },
     "execution_count": 27,
     "metadata": {},
     "output_type": "execute_result"
    }
   ],
   "source": [
    "#Dict of available parameters for linear regression pipe\n",
    "lr_pipe.get_params().keys()"
   ]
  },
  {
   "cell_type": "code",
   "execution_count": 28,
   "id": "7af2e25d",
   "metadata": {},
   "outputs": [],
   "source": [
    "#Define search grid parameters\n",
    "k = [k+1 for k in range(len(X_train.columns))]\n",
    "\n",
    "grid_params = {\n",
    "    'standardscaler': [StandardScaler(), None],\n",
    "    'simpleimputer__strategy': ['mean', 'median'],\n",
    "    'selectkbest__k': k\n",
    "}\n",
    "\n",
    "#Grid search (with hipass 200 inpatient admissions) yielded best k features = 9"
   ]
  },
  {
   "cell_type": "code",
   "execution_count": 29,
   "id": "199cee7b",
   "metadata": {},
   "outputs": [],
   "source": [
    "#Call `GridSearchCV` with linear regression pipeline, passing in the above `grid_params`\n",
    "#dict for parameters to evaluate with 5-fold cross-validation\n",
    "lr_grid_cv = GridSearchCV(lr_pipe, param_grid=grid_params, cv=5)"
   ]
  },
  {
   "cell_type": "code",
   "execution_count": 30,
   "id": "9a4f9113",
   "metadata": {},
   "outputs": [
    {
     "data": {
      "text/plain": [
       "GridSearchCV(cv=5,\n",
       "             estimator=Pipeline(steps=[('simpleimputer',\n",
       "                                        SimpleImputer(strategy='median')),\n",
       "                                       ('standardscaler', StandardScaler()),\n",
       "                                       ('selectkbest',\n",
       "                                        SelectKBest(score_func=<function f_regression at 0x000001D219759B80>)),\n",
       "                                       ('linearregression',\n",
       "                                        LinearRegression())]),\n",
       "             param_grid={'selectkbest__k': [1, 2, 3, 4, 5, 6, 7, 8, 9, 10, 11,\n",
       "                                            12, 13, 14, 15, 16, 17, 18, 19, 20,\n",
       "                                            21, 22, 23, 24, 25, 26, 27, 28, 29,\n",
       "                                            30, ...],\n",
       "                         'simpleimputer__strategy': ['mean', 'median'],\n",
       "                         'standardscaler': [StandardScaler(), None]})"
      ]
     },
     "execution_count": 30,
     "metadata": {},
     "output_type": "execute_result"
    }
   ],
   "source": [
    "#Conduct grid search. \n",
    "lr_grid_cv.fit(X_train, y_train)"
   ]
  },
  {
   "cell_type": "code",
   "execution_count": 31,
   "id": "4e8e5527",
   "metadata": {},
   "outputs": [
    {
     "data": {
      "text/plain": [
       "{'selectkbest__k': 10,\n",
       " 'simpleimputer__strategy': 'mean',\n",
       " 'standardscaler': None}"
      ]
     },
     "execution_count": 31,
     "metadata": {},
     "output_type": "execute_result"
    }
   ],
   "source": [
    "#Best params from grid search\n",
    "lr_grid_cv.best_params_"
   ]
  },
  {
   "cell_type": "markdown",
   "id": "a6fbeb19",
   "metadata": {},
   "source": [
    "* We can see from the above that the best k features # was 10, the best missing value imputation strategy was mean and the best scaling strategy was no scaling. These parameters were applied to generate the best Linear Model, which we will explore a bit below."
   ]
  },
  {
   "cell_type": "markdown",
   "id": "1982146a",
   "metadata": {},
   "source": [
    "### K Best Features Visualization"
   ]
  },
  {
   "cell_type": "code",
   "execution_count": 32,
   "id": "7444ec08",
   "metadata": {},
   "outputs": [
    {
     "data": {
      "image/png": "[encoded data removed]",
      "text/plain": [
       "<Figure size 720x360 with 1 Axes>"
      ]
     },
     "metadata": {
      "needs_background": "light"
     },
     "output_type": "display_data"
    }
   ],
   "source": [
    "score_mean = lr_grid_cv.cv_results_['mean_test_score']\n",
    "score_std = lr_grid_cv.cv_results_['std_test_score']\n",
    "cv_k = [k for k in lr_grid_cv.cv_results_['param_selectkbest__k']]\n",
    "\n",
    "best_k = lr_grid_cv.best_params_['selectkbest__k']\n",
    "plt.subplots(figsize=(10, 5))\n",
    "plt.errorbar(cv_k, score_mean, yerr=score_std)\n",
    "plt.axvline(x=best_k, c='r', ls='--', alpha=.5)\n",
    "plt.xlabel('k')\n",
    "plt.ylabel('CV score (r-squared)')\n",
    "plt.title('Pipeline mean CV score (error bars +/- 1sd)');"
   ]
  },
  {
   "cell_type": "markdown",
   "id": "d889e885",
   "metadata": {},
   "source": [
    "### Best Linear Model Performance Metrics"
   ]
  },
  {
   "cell_type": "markdown",
   "id": "50f74d04",
   "metadata": {},
   "source": [
    "#### R-squared (COD)"
   ]
  },
  {
   "cell_type": "code",
   "execution_count": 69,
   "id": "4929f465",
   "metadata": {},
   "outputs": [
    {
     "data": {
      "text/plain": [
       "array([0.12261537, 0.13041703, 0.09340593, 0.11038235, 0.05930985])"
      ]
     },
     "execution_count": 69,
     "metadata": {},
     "output_type": "execute_result"
    }
   ],
   "source": [
    "#Cross-validation defaults to R^2 metric for scoring regression\n",
    "lr_best_cv_results = cross_validate(lr_grid_cv.best_estimator_, X_train, y_train, cv=5)\n",
    "lr_best_scores = lr_best_cv_results['test_score']\n",
    "lr_best_scores"
   ]
  },
  {
   "cell_type": "code",
   "execution_count": 70,
   "id": "4efbe7e4",
   "metadata": {},
   "outputs": [
    {
     "data": {
      "text/plain": [
       "(0.10322610427123065, 0.025264894725110305)"
      ]
     },
     "execution_count": 70,
     "metadata": {},
     "output_type": "execute_result"
    }
   ],
   "source": [
    "#Training set CV mean and std\n",
    "np.mean(lr_best_scores), np.std(lr_best_scores)"
   ]
  },
  {
   "cell_type": "markdown",
   "id": "a26b9306",
   "metadata": {},
   "source": [
    "#### Mean Absolute Error (MAE)"
   ]
  },
  {
   "cell_type": "code",
   "execution_count": 71,
   "id": "5c0ec3b5",
   "metadata": {},
   "outputs": [],
   "source": [
    "lr_neg_mae = cross_validate(lr_grid_cv.best_estimator_, X_train, y_train, \n",
    "                            scoring='neg_mean_absolute_error', cv=5, n_jobs=-1)"
   ]
  },
  {
   "cell_type": "code",
   "execution_count": 72,
   "id": "384b5c3a",
   "metadata": {},
   "outputs": [
    {
     "data": {
      "text/plain": [
       "(0.5849003680398924, 0.009010178378140114)"
      ]
     },
     "execution_count": 72,
     "metadata": {},
     "output_type": "execute_result"
    }
   ],
   "source": [
    "# Training set MAE and STD \n",
    "lr_mae_mean = np.mean(-1 * lr_neg_mae['test_score'])\n",
    "lr_mae_std = np.std(-1 * lr_neg_mae['test_score'])\n",
    "MAE_LR_train = lr_mae_mean, lr_mae_std\n",
    "MAE_LR_train"
   ]
  },
  {
   "cell_type": "code",
   "execution_count": 73,
   "id": "7c420a31",
   "metadata": {},
   "outputs": [
    {
     "data": {
      "text/plain": [
       "0.5758155716830579"
      ]
     },
     "execution_count": 73,
     "metadata": {},
     "output_type": "execute_result"
    }
   ],
   "source": [
    "# Test set mean\n",
    "MAE_LR_test = mean_absolute_error(y_test, lr_grid_cv.best_estimator_.predict(X_test))\n",
    "MAE_LR_test"
   ]
  },
  {
   "cell_type": "markdown",
   "id": "cfc83eab",
   "metadata": {},
   "source": [
    "#### Mean Squared Error (MSE)"
   ]
  },
  {
   "cell_type": "code",
   "execution_count": 77,
   "id": "ce26d1cc",
   "metadata": {},
   "outputs": [],
   "source": [
    "lr_neg_mse = cross_validate(lr_grid_cv.best_estimator_, X_train, y_train, \n",
    "                            scoring='neg_mean_squared_error', cv=5)"
   ]
  },
  {
   "cell_type": "code",
   "execution_count": 84,
   "id": "9393688d",
   "metadata": {},
   "outputs": [
    {
     "data": {
      "text/plain": [
       "(0.6103975977645928, 0.03517526788445067)"
      ]
     },
     "execution_count": 84,
     "metadata": {},
     "output_type": "execute_result"
    }
   ],
   "source": [
    "#Training set CV mean and std\n",
    "lr_mse_mean = np.mean(-1 * lr_neg_mse['test_score'])\n",
    "lr_mse_std = np.std(-1 * lr_neg_mse['test_score'])\n",
    "MSE_LR_train = lr_mse_mean, lr_mse_std\n",
    "MSE_LR_train"
   ]
  },
  {
   "cell_type": "code",
   "execution_count": 85,
   "id": "b7cc8aad",
   "metadata": {},
   "outputs": [
    {
     "data": {
      "text/plain": [
       "0.6178080390643891"
      ]
     },
     "execution_count": 85,
     "metadata": {},
     "output_type": "execute_result"
    }
   ],
   "source": [
    "# Test set mean\n",
    "MSE_LR_test = mean_squared_error(y_test, lr_grid_cv.best_estimator_.predict(X_test))\n",
    "MSE_LR_test"
   ]
  },
  {
   "cell_type": "markdown",
   "id": "99788791",
   "metadata": {},
   "source": [
    "#### Root Mean Square Error (RMSE)"
   ]
  },
  {
   "cell_type": "code",
   "execution_count": 80,
   "id": "63a077c7",
   "metadata": {},
   "outputs": [],
   "source": [
    "lr_neg_rmse = cross_validate(lr_grid_cv.best_estimator_, X_train, y_train, \n",
    "                            scoring='neg_root_mean_squared_error', cv=5)"
   ]
  },
  {
   "cell_type": "code",
   "execution_count": 86,
   "id": "346d0925",
   "metadata": {},
   "outputs": [
    {
     "data": {
      "text/plain": [
       "(0.7809554660324466, 0.02249795187649241)"
      ]
     },
     "execution_count": 86,
     "metadata": {},
     "output_type": "execute_result"
    }
   ],
   "source": [
    "#Training set CV mean and std\n",
    "lr_rmse_mean = np.mean(-1 * lr_neg_rmse['test_score'])\n",
    "lr_rmse_std = np.std(-1 * lr_neg_rmse['test_score'])\n",
    "RMSE_LR_train = lr_rmse_mean, lr_rmse_std\n",
    "RMSE_LR_train"
   ]
  },
  {
   "cell_type": "code",
   "execution_count": 87,
   "id": "5f8d365e",
   "metadata": {},
   "outputs": [
    {
     "data": {
      "text/plain": [
       "0.7860076584005967"
      ]
     },
     "execution_count": 87,
     "metadata": {},
     "output_type": "execute_result"
    }
   ],
   "source": [
    "# Test set mean\n",
    "RMSE_LR_test = np.sqrt(mean_squared_error(y_test, lr_grid_cv.best_estimator_.predict(X_test)))\n",
    "RMSE_LR_test"
   ]
  },
  {
   "cell_type": "markdown",
   "id": "195e59b9",
   "metadata": {},
   "source": [
    "### Best Linear Model Feature Importance"
   ]
  },
  {
   "cell_type": "code",
   "execution_count": 38,
   "id": "6de0c935",
   "metadata": {},
   "outputs": [
    {
     "data": {
      "image/png": "[encoded data removed]",
      "text/plain": [
       "<Figure size 720x360 with 1 Axes>"
      ]
     },
     "metadata": {
      "needs_background": "light"
     },
     "output_type": "display_data"
    }
   ],
   "source": [
    "#Plot a barplot of the linear regressor feature importances,\n",
    "#assigning the `feature_importances_` attribute of \n",
    "#`lv_grid_cv.best_estimator_.named_steps.linearregression` to the name `imps` to then\n",
    "#create a pandas Series object of the feature importances, with the index given by the\n",
    "#training data column names, sorting the values in descending order\n",
    "selected = lr_grid_cv.best_estimator_.named_steps.selectkbest.get_support()\n",
    "plt.subplots(figsize=(10, 5))\n",
    "imps = lr_grid_cv.best_estimator_.named_steps.linearregression.coef_\n",
    "lr_feat_imps = pd.Series(imps, index=X_train.columns[selected]).sort_values(ascending=False)\n",
    "lr_feat_imps.plot(kind='bar')\n",
    "plt.xlabel('features')\n",
    "plt.ylabel('importance')\n",
    "plt.title('Best linear regressor feature importances');"
   ]
  },
  {
   "cell_type": "markdown",
   "id": "9cc0f64e",
   "metadata": {},
   "source": [
    "### Save Best Linear Model Object From Pipeline"
   ]
  },
  {
   "cell_type": "code",
   "execution_count": 39,
   "id": "75fe29fd",
   "metadata": {},
   "outputs": [],
   "source": [
    "# save the best linear model\n",
    "best_model = lr_grid_cv.best_estimator_\n",
    "best_model.version = '1.0'\n",
    "best_model.pandas_version = pd.__version__\n",
    "best_model.numpy_version = np.__version__\n",
    "best_model.sklearn_version = sklearn_version\n",
    "best_model.X_columns = [col for col in X_train.columns]\n",
    "best_model.build_datetime = datetime.datetime.now()\n",
    "\n",
    "modelpath = '../models'\n",
    "save_file(best_model, 'hospital_RR_linearmodel.pkl', modelpath)"
   ]
  },
  {
   "cell_type": "markdown",
   "id": "6966aa83",
   "metadata": {},
   "source": [
    "### Save Prediction Metrics from Dummy and Linear Regression Models"
   ]
  },
  {
   "cell_type": "code",
   "execution_count": 90,
   "id": "c8dd0b68",
   "metadata": {},
   "outputs": [],
   "source": [
    "# save other data for model comparisons in machine learning model stage\n",
    "comp_data_from3 = (MAEs_dummy, MSEs_dummy, RMSEs_dummy, MAE_LR_train, MAE_LR_test, MSE_LR_train, MSE_LR_test, RMSE_LR_train, RMSE_LR_test)\n",
    "with open('../data/comp_data_from3.pickle', 'wb') as f:\n",
    "    pickle.dump(comp_data_from3, f)"
   ]
  },
  {
   "cell_type": "markdown",
   "id": "454f4b48",
   "metadata": {},
   "source": [
    "## Summary of Preprocessing, Training and Linear Modeling"
   ]
  },
  {
   "cell_type": "markdown",
   "id": "05749656",
   "metadata": {},
   "source": [
    "* The final data consisted of the ~2500 US hospitals - ~65% of all hospitals in the original CMS data set- that both had available target data (Readmission Rate) and at least 200 inpatient admissions in the previous year. \n",
    "\n",
    "\n",
    "* Data were subject to a 70/30 training/testing split. 5-fold training cross validation was performed for each model described below prior to test set prediction. For each model, metrics evaluated for both cross-validation on the training set and for the test set were R-squared, MAE, MSE, and RMSE. Summarized below (and in the Modeling notebook for non-linear/ensemble models) is cross-validation RMSE (and SD thereof for the Linear Model), though each metric tracked roughly proportionately across models.\n",
    "\n",
    "\n",
    "* Average Readmission Rate was first explored as a baseline measure of performance. \n",
    "  * Readmission Rate predicted simply by average price in the training set yielded a prediction that was approximately .83% off of average actual Readmission Rate in cross-validation on the training set (RMSE).\n",
    "\n",
    "\n",
    "* Next a Linear Regression model was built, which was optimized in terms of K-best features (which turned out to be k = 9). In constucting this model, it was also determined that the best missing values imputation method was to use the mean and the best scaling strategy was to not use any scaling. \n",
    "    * The best Linear model yielded a prediction that was approximately .78% (.02%) off of average actual Readmission Rate in cross-validation on the training set (RMSE). \n",
    "    * Best Linear model outperformed the baseline model\n",
    "\n",
    "\n",
    "* Subsequently, ('Modeling' stage) multiple decision tree-based machine learning models will be evaluated and compared to both the dummy model (prediction with average) and the best Linear Regression Model conduted at this stage. \n",
    "    * The initial plan is to first deploy Random Forest, which has one advantage of being able to see which features contributed the most to the best model prediction. Then, the plan is to evaluate andcompare the prediction quality of at least several ensemble models in this class (Gradient Boosting Regression and HistGradient Boosting Regression; possibly XBoost as well).  "
   ]
  },
  {
   "cell_type": "code",
   "execution_count": null,
   "id": "a5038483",
   "metadata": {},
   "outputs": [],
   "source": []
  }
 ],
 "metadata": {
  "kernelspec": {
   "display_name": "Python 3",
   "language": "python",
   "name": "python3"
  },
  "language_info": {
   "codemirror_mode": {
    "name": "ipython",
    "version": 3
   },
   "file_extension": ".py",
   "mimetype": "text/x-python",
   "name": "python",
   "nbconvert_exporter": "python",
   "pygments_lexer": "ipython3",
   "version": "3.8.8"
  }
 },
 "nbformat": 4,
 "nbformat_minor": 5
}
